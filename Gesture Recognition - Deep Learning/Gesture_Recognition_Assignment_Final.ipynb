{
 "cells": [
  {
   "cell_type": "markdown",
   "metadata": {},
   "source": [
    "# Gesture Recognition\n",
    "In this group project, you are going to build a 3D Conv model that will be able to predict the 5 gestures correctly. Please import the following libraries to get started."
   ]
  },
  {
   "cell_type": "code",
   "execution_count": 1,
   "metadata": {},
   "outputs": [],
   "source": [
    "import numpy as np\n",
    "import os\n",
    "from scipy.misc import imread, imresize\n",
    "import datetime\n",
    "import os\n",
    "import warnings\n",
    "warnings.filterwarnings(\"ignore\")\n",
    "\n",
    "import matplotlib.pyplot as plt\n",
    "import seaborn as sns"
   ]
  },
  {
   "cell_type": "markdown",
   "metadata": {},
   "source": [
    "We set the random seed so that the results don't vary drastically."
   ]
  },
  {
   "cell_type": "code",
   "execution_count": 2,
   "metadata": {},
   "outputs": [
    {
     "name": "stderr",
     "output_type": "stream",
     "text": [
      "Using TensorFlow backend.\n"
     ]
    }
   ],
   "source": [
    "np.random.seed(30)\n",
    "import random as rn\n",
    "rn.seed(30)\n",
    "from keras import backend as K\n",
    "import tensorflow as tf\n",
    "tf.set_random_seed(30)"
   ]
  },
  {
   "cell_type": "markdown",
   "metadata": {},
   "source": [
    "In this block, you read the folder names for training and validation. You also set the `batch_size` here. Note that you set the batch size in such a way that you are able to use the GPU in full capacity. You keep increasing the batch size until the machine throws an error."
   ]
  },
  {
   "cell_type": "code",
   "execution_count": 3,
   "metadata": {},
   "outputs": [],
   "source": [
    "train_doc = np.random.permutation(open('./Project_data/train.csv').readlines())\n",
    "val_doc = np.random.permutation(open('./Project_data/val.csv').readlines())\n",
    "batch_size = 40"
   ]
  },
  {
   "cell_type": "code",
   "execution_count": 4,
   "metadata": {},
   "outputs": [],
   "source": [
    "frames = range(5,25)\n",
    "frames_to_sample = len(frames)\n",
    "img_height = 160\n",
    "img_width = 160\n",
    "nb_classes=5"
   ]
  },
  {
   "cell_type": "code",
   "execution_count": 5,
   "metadata": {},
   "outputs": [],
   "source": [
    "def plot(history):\n",
    "    fig, axes = plt.subplots(nrows=1, ncols=2, figsize=(15,4))\n",
    "    axes[0].plot(history.history['loss'])   \n",
    "    axes[0].plot(history.history['val_loss'])\n",
    "    axes[0].legend(['loss','val_loss'])\n",
    "\n",
    "    axes[1].plot(history.history['categorical_accuracy'])   \n",
    "    axes[1].plot(history.history['val_categorical_accuracy'])\n",
    "    axes[1].legend(['categorical_accuracy','val_categorical_accuracy'])"
   ]
  },
  {
   "cell_type": "markdown",
   "metadata": {},
   "source": [
    "## Generator\n",
    "This is one of the most important part of the code. The overall structure of the generator has been given. In the generator, you are going to preprocess the images as you have images of 2 different dimensions as well as create a batch of video frames. You have to experiment with `img_idx`, `y`,`z` and normalization such that you get high accuracy."
   ]
  },
  {
   "cell_type": "code",
   "execution_count": 6,
   "metadata": {},
   "outputs": [],
   "source": [
    "def generator(source_path, folder_list, batch_size):\n",
    "    print( 'Source path = ', source_path, '; batch size =', batch_size)\n",
    "    img_idx = frames\n",
    "    while True:\n",
    "        t = np.random.permutation(folder_list)\n",
    "        num_batches = int(np.floor(len(folder_list)/batch_size))\n",
    "        for batch in range(num_batches): # we iterate over the number of batches\n",
    "            x = len(img_idx)\n",
    "            y = img_height\n",
    "            z = img_width\n",
    "            batch_data = np.zeros((batch_size,x,y,z,3)) # x is the number of images you use for each video, (y,z) is the final size of the input images and 3 is the number of channels RGB\n",
    "            batch_labels = np.zeros((batch_size,5)) # batch_labels is the one hot representation of the output\n",
    "            for folder in range(batch_size): # iterate over the batch_size\n",
    "                imgs = os.listdir(source_path+'/'+ t[folder + (batch*batch_size)].split(';')[0]) # read all the images in the folder\n",
    "                for idx,item in enumerate(img_idx): #  Iterate iver the frames/images of a folder to read them in\n",
    "                    image = imread(source_path+'/'+ t[folder + (batch*batch_size)].strip().split(';')[0]+'/'+imgs[item]).astype(np.float32)\n",
    "                    \n",
    "                    #crop the images and resize them. Note that the images are of 2 different shape \n",
    "                    #and the conv3D will throw error if the inputs in a batch have different shapes\n",
    "                    \n",
    "                    image = imresize(image,(y,z,3))\n",
    "                    \n",
    "                    norm_image = (image - np.mean(image))/(np.max(image) - np.min(image))\n",
    "                    \n",
    "                    batch_data[folder,idx,:,:,0] = norm_image[:,:,0]\n",
    "                    batch_data[folder,idx,:,:,1] = norm_image[:,:,1]\n",
    "                    batch_data[folder,idx,:,:,2] = norm_image[:,:,2]\n",
    "                    \n",
    "                batch_labels[folder, int(t[folder + (batch*batch_size)].strip().split(';')[2])] = 1\n",
    "            yield batch_data, batch_labels #you yield the batch_data and the batch_labels, remember what does yield do\n",
    "\n",
    "        \n",
    "        # write the code for the remaining data points which are left after full batches\n",
    "        num_rem_seqs = len(folder_list) - (num_batches*batch_size)\n",
    "        if num_rem_seqs > 0:\n",
    "            x = len(img_idx)\n",
    "            y = img_height\n",
    "            z = img_width\n",
    "            batch_data = np.zeros((num_rem_seqs,x,y,z,3)) # x is the number of images you use for each video, (y,z) is the final size of the input images and 3 is the number of channels RGB\n",
    "            batch_labels = np.zeros((num_rem_seqs,5)) # batch_labels is the one hot representation of the output\n",
    "            rem_seqs = t[len(t)-num_rem_seqs:]\n",
    "            for folder in range(num_rem_seqs): # iterate over the remaining sequences\n",
    "                imgs = os.listdir(source_path+'/'+ rem_seqs[folder].split(';')[0]) # read all the images in the folder\n",
    "                for idx,item in enumerate(img_idx): #  Iterate iver the frames/images of a folder to read them in\n",
    "                    image = imread(source_path+'/'+ rem_seqs[folder].strip().split(';')[0]+'/'+imgs[item]).astype(np.float32)\n",
    "                    \n",
    "                    #crop the images and resize them. Note that the images are of 2 different shape \n",
    "                    #and the conv3D will throw error if the inputs in a batch have different shapes\n",
    "                    \n",
    "                    image = imresize(image,(y,z,3))\n",
    "                    \n",
    "                    norm_image = (image - np.mean(image))/(np.max(image) - np.min(image))\n",
    "                    \n",
    "                    batch_data[folder,idx,:,:,0] = norm_image[:,:,0]\n",
    "                    batch_data[folder,idx,:,:,1] = norm_image[:,:,1]\n",
    "                    batch_data[folder,idx,:,:,2] = norm_image[:,:,2]\n",
    "                    \n",
    "                batch_labels[folder, int(rem_seqs[folder].strip().split(';')[2])] = 1\n",
    "            yield batch_data, batch_labels #you yield the batch_data and the batch_labels, remember what does yield do"
   ]
  },
  {
   "cell_type": "markdown",
   "metadata": {},
   "source": [
    "Note here that a video is represented above in the generator as (number of images, height, width, number of channels). Take this into consideration while creating the model architecture."
   ]
  },
  {
   "cell_type": "code",
   "execution_count": 7,
   "metadata": {},
   "outputs": [
    {
     "name": "stdout",
     "output_type": "stream",
     "text": [
      "# training sequences = 663\n",
      "# validation sequences = 100\n",
      "# epochs = 10\n"
     ]
    }
   ],
   "source": [
    "curr_dt_time = datetime.datetime.now()\n",
    "train_path = './Project_data/train'\n",
    "val_path = './Project_data/val'\n",
    "num_train_sequences = len(train_doc)\n",
    "print('# training sequences =', num_train_sequences)\n",
    "num_val_sequences = len(val_doc)\n",
    "print('# validation sequences =', num_val_sequences)\n",
    "num_epochs = 10\n",
    "print ('# epochs =', num_epochs)"
   ]
  },
  {
   "cell_type": "markdown",
   "metadata": {},
   "source": [
    "## Model\n",
    "Here you make the model using different functionalities that Keras provides. Remember to use `Conv3D` and `MaxPooling3D` and not `Conv2D` and `Maxpooling2D` for a 3D convolution model. You would want to use `TimeDistributed` while building a Conv2D + RNN model. Also remember that the last layer is the softmax. Design the network in such a way that the model is able to give good accuracy on the least number of parameters so that it can fit in the memory of the webcam."
   ]
  },
  {
   "cell_type": "code",
   "execution_count": 8,
   "metadata": {},
   "outputs": [],
   "source": [
    "from keras.models import Sequential, Model\n",
    "from keras.layers import Dense, GRU, Flatten, TimeDistributed, Flatten, BatchNormalization, Activation, Dropout\n",
    "from keras.layers.convolutional import Conv3D, MaxPooling3D\n",
    "from keras.callbacks import ModelCheckpoint, ReduceLROnPlateau\n",
    "from keras import optimizers\n",
    "\n",
    "#write your model here\n",
    "\n",
    "def define_model(filter_size=(2,2,2), dense_neurons=64, dropout=0.2):    \n",
    "\n",
    "    model = Sequential()\n",
    "\n",
    "    # Layer 1\n",
    "    model.add(Conv3D(8,filter_size,padding='same',input_shape=(frames_to_sample, img_height, img_width, 3), activation='relu'))\n",
    "    model.add(BatchNormalization())\n",
    "    model.add(MaxPooling3D(pool_size=(2, 2, 2)))\n",
    "\n",
    "    # Layer 2\n",
    "    model.add(Conv3D(16,filter_size,padding='same',input_shape=(frames_to_sample, img_height, img_width, 3), activation='relu'))\n",
    "    model.add(BatchNormalization())\n",
    "    model.add(MaxPooling3D(pool_size=(2, 2, 2)))\n",
    "\n",
    "    # Layer 3\n",
    "    model.add(Conv3D(32,filter_size,padding='same',input_shape=(frames_to_sample, img_height, img_width, 3), activation='relu'))\n",
    "    model.add(BatchNormalization())\n",
    "    model.add(MaxPooling3D(pool_size=(2, 2, 2)))\n",
    "\n",
    "    # Layer 4\n",
    "    model.add(Conv3D(64,filter_size,padding='same',input_shape=(frames_to_sample, img_height, img_width, 3), activation='relu'))\n",
    "    model.add(BatchNormalization())\n",
    "    model.add(MaxPooling3D(pool_size=(2, 2, 2)))\n",
    "\n",
    "    # Flatter and put a fully connected layer\n",
    "    model.add(Flatten())\n",
    "    model.add(Dense(dense_neurons, activation='relu'))\n",
    "    model.add(BatchNormalization())\n",
    "    model.add(Dropout(dropout))\n",
    "    \n",
    "    #Output Softmax layer\n",
    "    model.add(Dense(nb_classes, activation='softmax'))\n",
    "    \n",
    "    return model"
   ]
  },
  {
   "cell_type": "markdown",
   "metadata": {},
   "source": [
    "Now that you have written the model, the next step is to `compile` the model. When you print the `summary` of the model, you'll see the total number of parameters you have to train."
   ]
  },
  {
   "cell_type": "code",
   "execution_count": 9,
   "metadata": {
    "scrolled": true
   },
   "outputs": [
    {
     "name": "stdout",
     "output_type": "stream",
     "text": [
      "_________________________________________________________________\n",
      "Layer (type)                 Output Shape              Param #   \n",
      "=================================================================\n",
      "conv3d_1 (Conv3D)            (None, 20, 160, 160, 8)   200       \n",
      "_________________________________________________________________\n",
      "batch_normalization_1 (Batch (None, 20, 160, 160, 8)   32        \n",
      "_________________________________________________________________\n",
      "max_pooling3d_1 (MaxPooling3 (None, 10, 80, 80, 8)     0         \n",
      "_________________________________________________________________\n",
      "conv3d_2 (Conv3D)            (None, 10, 80, 80, 16)    1040      \n",
      "_________________________________________________________________\n",
      "batch_normalization_2 (Batch (None, 10, 80, 80, 16)    64        \n",
      "_________________________________________________________________\n",
      "max_pooling3d_2 (MaxPooling3 (None, 5, 40, 40, 16)     0         \n",
      "_________________________________________________________________\n",
      "conv3d_3 (Conv3D)            (None, 5, 40, 40, 32)     4128      \n",
      "_________________________________________________________________\n",
      "batch_normalization_3 (Batch (None, 5, 40, 40, 32)     128       \n",
      "_________________________________________________________________\n",
      "max_pooling3d_3 (MaxPooling3 (None, 2, 20, 20, 32)     0         \n",
      "_________________________________________________________________\n",
      "conv3d_4 (Conv3D)            (None, 2, 20, 20, 64)     16448     \n",
      "_________________________________________________________________\n",
      "batch_normalization_4 (Batch (None, 2, 20, 20, 64)     256       \n",
      "_________________________________________________________________\n",
      "max_pooling3d_4 (MaxPooling3 (None, 1, 10, 10, 64)     0         \n",
      "_________________________________________________________________\n",
      "flatten_1 (Flatten)          (None, 6400)              0         \n",
      "_________________________________________________________________\n",
      "dense_1 (Dense)              (None, 64)                409664    \n",
      "_________________________________________________________________\n",
      "batch_normalization_5 (Batch (None, 64)                256       \n",
      "_________________________________________________________________\n",
      "dropout_1 (Dropout)          (None, 64)                0         \n",
      "_________________________________________________________________\n",
      "dense_2 (Dense)              (None, 5)                 325       \n",
      "=================================================================\n",
      "Total params: 432,541\n",
      "Trainable params: 432,173\n",
      "Non-trainable params: 368\n",
      "_________________________________________________________________\n",
      "None\n"
     ]
    }
   ],
   "source": [
    "conv3d1 = define_model()\n",
    "optimiser = optimizers.Adam(lr=0.001)\n",
    "conv3d1.compile(optimizer=optimiser, loss='categorical_crossentropy', metrics=['categorical_accuracy'])\n",
    "print(conv3d1.summary())"
   ]
  },
  {
   "cell_type": "markdown",
   "metadata": {},
   "source": [
    "Let us create the `train_generator` and the `val_generator` which will be used in `.fit_generator`."
   ]
  },
  {
   "cell_type": "code",
   "execution_count": 10,
   "metadata": {},
   "outputs": [],
   "source": [
    "train_generator = generator(train_path, train_doc, batch_size)\n",
    "val_generator = generator(val_path, val_doc, batch_size)"
   ]
  },
  {
   "cell_type": "code",
   "execution_count": 11,
   "metadata": {},
   "outputs": [],
   "source": [
    "model_name = 'model_init' + '_' + str(curr_dt_time).replace(' ','').replace(':','_') + '/'\n",
    "    \n",
    "if not os.path.exists(model_name):\n",
    "    os.mkdir(model_name)\n",
    "        \n",
    "filepath = model_name + 'model-{epoch:05d}-{loss:.5f}-{categorical_accuracy:.5f}-{val_loss:.5f}-{val_categorical_accuracy:.5f}.h5'\n",
    "\n",
    "checkpoint = ModelCheckpoint(filepath, monitor='val_loss', verbose=1, save_best_only=False, save_weights_only=False, mode='auto', period=1)\n",
    "\n",
    "LR = ReduceLROnPlateau(monitor='val_loss', factor=0.2, verbose=1, patience=4)\n",
    "callbacks_list = [checkpoint, LR]"
   ]
  },
  {
   "cell_type": "markdown",
   "metadata": {},
   "source": [
    "The `steps_per_epoch` and `validation_steps` are used by `fit_generator` to decide the number of next() calls it need to make."
   ]
  },
  {
   "cell_type": "code",
   "execution_count": 12,
   "metadata": {},
   "outputs": [],
   "source": [
    "if (num_train_sequences%batch_size) == 0:\n",
    "    steps_per_epoch = int(num_train_sequences/batch_size)\n",
    "else:\n",
    "    steps_per_epoch = (num_train_sequences//batch_size) + 1\n",
    "\n",
    "if (num_val_sequences%batch_size) == 0:\n",
    "    validation_steps = int(num_val_sequences/batch_size)\n",
    "else:\n",
    "    validation_steps = (num_val_sequences//batch_size) + 1"
   ]
  },
  {
   "cell_type": "markdown",
   "metadata": {},
   "source": [
    "Let us now fit the model. This will start training the model and with the help of the checkpoints, you'll be able to save the model at the end of each epoch."
   ]
  },
  {
   "cell_type": "code",
   "execution_count": 13,
   "metadata": {},
   "outputs": [
    {
     "name": "stdout",
     "output_type": "stream",
     "text": [
      "Source path =  ./Project_data/val ; batch size = 40\n",
      "Source path =  ./Project_data/train ; batch size = 40\n",
      "Epoch 1/10\n",
      "17/17 [==============================] - 169s 10s/step - loss: 1.2935 - categorical_accuracy: 0.4974 - val_loss: 1.3299 - val_categorical_accuracy: 0.5500\n",
      "\n",
      "Epoch 00001: saving model to model_init_2021-02-0314_21_26.367312/model-00001-1.30209-0.49472-1.32991-0.55000.h5\n",
      "Epoch 2/10\n",
      "17/17 [==============================] - 69s 4s/step - loss: 0.5499 - categorical_accuracy: 0.7991 - val_loss: 0.9829 - val_categorical_accuracy: 0.6600\n",
      "\n",
      "Epoch 00002: saving model to model_init_2021-02-0314_21_26.367312/model-00002-0.55460-0.79638-0.98291-0.66000.h5\n",
      "Epoch 3/10\n",
      "17/17 [==============================] - 70s 4s/step - loss: 0.3126 - categorical_accuracy: 0.9036 - val_loss: 0.9107 - val_categorical_accuracy: 0.6500\n",
      "\n",
      "Epoch 00003: saving model to model_init_2021-02-0314_21_26.367312/model-00003-0.31066-0.90649-0.91066-0.65000.h5\n",
      "Epoch 4/10\n",
      "17/17 [==============================] - 71s 4s/step - loss: 0.1756 - categorical_accuracy: 0.9695 - val_loss: 1.0584 - val_categorical_accuracy: 0.6500\n",
      "\n",
      "Epoch 00004: saving model to model_init_2021-02-0314_21_26.367312/model-00004-0.17536-0.96983-1.05842-0.65000.h5\n",
      "Epoch 5/10\n",
      "17/17 [==============================] - 81s 5s/step - loss: 0.0920 - categorical_accuracy: 0.9882 - val_loss: 1.1395 - val_categorical_accuracy: 0.6700\n",
      "\n",
      "Epoch 00005: saving model to model_init_2021-02-0314_21_26.367312/model-00005-0.09293-0.98793-1.13950-0.67000.h5\n",
      "Epoch 6/10\n",
      "17/17 [==============================] - 63s 4s/step - loss: 0.0598 - categorical_accuracy: 1.0000 - val_loss: 1.3695 - val_categorical_accuracy: 0.5400\n",
      "\n",
      "Epoch 00006: saving model to model_init_2021-02-0314_21_26.367312/model-00006-0.05945-1.00000-1.36948-0.54000.h5\n",
      "Epoch 7/10\n",
      "17/17 [==============================] - 63s 4s/step - loss: 0.0350 - categorical_accuracy: 1.0000 - val_loss: 1.3690 - val_categorical_accuracy: 0.5500\n",
      "\n",
      "Epoch 00007: saving model to model_init_2021-02-0314_21_26.367312/model-00007-0.03525-1.00000-1.36899-0.55000.h5\n",
      "\n",
      "Epoch 00007: ReduceLROnPlateau reducing learning rate to 0.00020000000949949026.\n",
      "Epoch 8/10\n",
      "17/17 [==============================] - 63s 4s/step - loss: 0.0246 - categorical_accuracy: 1.0000 - val_loss: 1.1809 - val_categorical_accuracy: 0.6900\n",
      "\n",
      "Epoch 00008: saving model to model_init_2021-02-0314_21_26.367312/model-00008-0.02464-1.00000-1.18087-0.69000.h5\n",
      "Epoch 9/10\n",
      "17/17 [==============================] - 63s 4s/step - loss: 0.0236 - categorical_accuracy: 1.0000 - val_loss: 1.0582 - val_categorical_accuracy: 0.6900\n",
      "\n",
      "Epoch 00009: saving model to model_init_2021-02-0314_21_26.367312/model-00009-0.02385-1.00000-1.05822-0.69000.h5\n",
      "Epoch 10/10\n",
      "17/17 [==============================] - 64s 4s/step - loss: 0.0259 - categorical_accuracy: 1.0000 - val_loss: 0.9778 - val_categorical_accuracy: 0.7000\n",
      "\n",
      "Epoch 00010: saving model to model_init_2021-02-0314_21_26.367312/model-00010-0.02599-1.00000-0.97779-0.70000.h5\n"
     ]
    }
   ],
   "source": [
    "history = conv3d1.fit_generator(train_generator, steps_per_epoch=steps_per_epoch, epochs=num_epochs, verbose=1, \n",
    "                    callbacks=callbacks_list, validation_data=val_generator, \n",
    "                    validation_steps=validation_steps, class_weight=None, workers=1, initial_epoch=0)"
   ]
  },
  {
   "cell_type": "code",
   "execution_count": 14,
   "metadata": {},
   "outputs": [
    {
     "data": {
      "image/png": "[encoded data removed]",
      "text/plain": [
       "<Figure size 1080x288 with 2 Axes>"
      ]
     },
     "metadata": {},
     "output_type": "display_data"
    }
   ],
   "source": [
    "plot(history)"
   ]
  },
  {
   "cell_type": "markdown",
   "metadata": {},
   "source": [
    "The model is overfitting on the train data.\n",
    "\n",
    "Let us do Data Augmentation."
   ]
  },
  {
   "cell_type": "code",
   "execution_count": 15,
   "metadata": {},
   "outputs": [],
   "source": [
    "import cv2\n",
    "\n",
    "def augmented_generator(source_path, folder_list, batch_size, augment=False):\n",
    "    print( 'Source path = ', source_path, '; batch size =', batch_size)\n",
    "    img_idx = frames\n",
    "    while True:\n",
    "        t = np.random.permutation(folder_list)\n",
    "        num_batches = int(np.floor(len(folder_list)/batch_size))\n",
    "        for batch in range(num_batches): # we iterate over the number of batches\n",
    "            x = len(img_idx)\n",
    "            y = img_height\n",
    "            z = img_width\n",
    "            batch_data = np.zeros((batch_size,x,y,z,3)) # x is the number of images you use for each video, (y,z) is the final size of the input images and 3 is the number of channels RGB\n",
    "            if augment:\n",
    "                batch_data_aug = np.zeros((batch_size,x,y,z,3))\n",
    "            batch_labels = np.zeros((batch_size,5)) # batch_labels is the one hot representation of the output\n",
    "            for folder in range(batch_size): # iterate over the batch_size\n",
    "                imgs = os.listdir(source_path+'/'+ t[folder + (batch*batch_size)].split(';')[0]) # read all the images in the folder\n",
    "                for idx,item in enumerate(img_idx): #  Iterate iver the frames/images of a folder to read them in\n",
    "                    image = imread(source_path+'/'+ t[folder + (batch*batch_size)].strip().split(';')[0]+'/'+imgs[item]).astype(np.float32)\n",
    "                    \n",
    "                    #crop the images and resize them. Note that the images are of 2 different shape \n",
    "                    #and the conv3D will throw error if the inputs in a batch have different shapes\n",
    "                    \n",
    "                    image = imresize(image,(y,z,3))\n",
    "                    \n",
    "                    norm_image = (image - np.mean(image))/(np.max(image) - np.min(image))\n",
    "                    \n",
    "                    batch_data[folder,idx,:,:,0] = norm_image[:,:,0]\n",
    "                    batch_data[folder,idx,:,:,1] = norm_image[:,:,1]\n",
    "                    batch_data[folder,idx,:,:,2] = norm_image[:,:,2]\n",
    "                    \n",
    "                    if augment:\n",
    "                        M = np.float32([[1,0,np.random.randint(-20,20)],[0,1,np.random.randint(-20,20)]])\n",
    "                        rows,cols = image.shape[0],image.shape[1]\n",
    "                        \n",
    "                        shifted_image = cv2.warpAffine(image, M, (cols,rows))\n",
    "                        \n",
    "                        rot_matrix = cv2.getRotationMatrix2D(((cols-1)/2.0,(rows-1)/2.0),5,1)\n",
    "                        rotated_image = cv2.warpAffine(image, rot_matrix, (cols,rows))\n",
    "                        \n",
    "                        rot_norm_image = (rotated_image - np.mean(rotated_image))/(np.max(rotated_image) - np.min(rotated_image))\n",
    "                        \n",
    "                        batch_data_aug[folder,idx,:,:,0] = rot_norm_image[:,:,0]\n",
    "                        batch_data_aug[folder,idx,:,:,1] = rot_norm_image[:,:,1]\n",
    "                        batch_data_aug[folder,idx,:,:,2] = rot_norm_image[:,:,2]\n",
    "                        \n",
    "                        \n",
    "                    \n",
    "                batch_labels[folder, int(t[folder + (batch*batch_size)].strip().split(';')[2])] = 1\n",
    "                \n",
    "            if augment:\n",
    "                batch_data=np.concatenate([batch_data,batch_data_aug])\n",
    "                batch_labels=np.concatenate([batch_labels,batch_labels])\n",
    "                \n",
    "            yield batch_data, batch_labels #you yield the batch_data and the batch_labels, remember what does yield do\n",
    "\n",
    "        \n",
    "        # write the code for the remaining data points which are left after full batches\n",
    "        num_rem_seqs = len(folder_list) - (num_batches*batch_size)\n",
    "        if num_rem_seqs > 0:\n",
    "            x = len(img_idx)\n",
    "            y = img_height\n",
    "            z = img_width\n",
    "            batch_data = np.zeros((num_rem_seqs,x,y,z,3)) # x is the number of images you use for each video, (y,z) is the final size of the input images and 3 is the number of channels RGB\n",
    "            batch_labels = np.zeros((num_rem_seqs,5)) # batch_labels is the one hot representation of the output\n",
    "            if augment:\n",
    "                batch_data_aug = np.zeros((num_rem_seqs,x,y,z,3))\n",
    "            rem_seqs = t[len(t)-num_rem_seqs:]\n",
    "            for folder in range(num_rem_seqs): # iterate over the remaining sequences\n",
    "                imgs = os.listdir(source_path+'/'+ rem_seqs[folder].split(';')[0]) # read all the images in the folder\n",
    "                for idx,item in enumerate(img_idx): #  Iterate iver the frames/images of a folder to read them in\n",
    "                    image = imread(source_path+'/'+ rem_seqs[folder].strip().split(';')[0]+'/'+imgs[item]).astype(np.float32)\n",
    "                    \n",
    "                    #crop the images and resize them. Note that the images are of 2 different shape \n",
    "                    #and the conv3D will throw error if the inputs in a batch have different shapes\n",
    "                    \n",
    "                    image = imresize(image,(y,z,3))\n",
    "                    \n",
    "                    norm_image = (image - np.mean(image))/(np.max(image) - np.min(image))\n",
    "                    \n",
    "                    batch_data[folder,idx,:,:,0] = norm_image[:,:,0]\n",
    "                    batch_data[folder,idx,:,:,1] = norm_image[:,:,1]\n",
    "                    batch_data[folder,idx,:,:,2] = norm_image[:,:,2]\n",
    "                    \n",
    "                    if augment:\n",
    "                        M = np.float32([[1,0,np.random.randint(-20,20)],[0,1,np.random.randint(-20,20)]])\n",
    "                        rows,cols = image.shape[0],image.shape[1]\n",
    "                        \n",
    "                        shifted_image = cv2.warpAffine(image, M, (cols,rows))\n",
    "                        \n",
    "                        rot_matrix = cv2.getRotationMatrix2D(((cols-1)/2.0,(rows-1)/2.0),5,1)\n",
    "                        rotated_image = cv2.warpAffine(image, rot_matrix, (cols,rows))\n",
    "                        \n",
    "                        rot_norm_image = (rotated_image - np.mean(rotated_image))/(np.max(rotated_image) - np.min(rotated_image))\n",
    "                        \n",
    "                        batch_data_aug[folder,idx,:,:,0] = rot_norm_image[:,:,0]\n",
    "                        batch_data_aug[folder,idx,:,:,1] = rot_norm_image[:,:,1]\n",
    "                        batch_data_aug[folder,idx,:,:,2] = rot_norm_image[:,:,2]\n",
    "                    \n",
    "                batch_labels[folder, int(rem_seqs[folder].strip().split(';')[2])] = 1\n",
    "            \n",
    "            if augment:\n",
    "                batch_data=np.concatenate([batch_data,batch_data_aug])\n",
    "                batch_labels=np.concatenate([batch_labels,batch_labels])\n",
    "            yield batch_data, batch_labels #you yield the batch_data and the batch_labels, remember what does yield do"
   ]
  },
  {
   "cell_type": "code",
   "execution_count": 16,
   "metadata": {},
   "outputs": [
    {
     "name": "stdout",
     "output_type": "stream",
     "text": [
      "# training sequences = 663\n",
      "# validation sequences = 100\n",
      "# epochs = 10\n"
     ]
    }
   ],
   "source": [
    "curr_dt_time = datetime.datetime.now()\n",
    "train_path = './Project_data/train'\n",
    "val_path = './Project_data/val'\n",
    "num_train_sequences = len(train_doc)\n",
    "print('# training sequences =', num_train_sequences)\n",
    "num_val_sequences = len(val_doc)\n",
    "print('# validation sequences =', num_val_sequences)\n",
    "num_epochs = 10\n",
    "print ('# epochs =', num_epochs)"
   ]
  },
  {
   "cell_type": "markdown",
   "metadata": {},
   "source": [
    "### Create a new Conv3D model\n",
    "\n",
    "We keep the image size same as 160,160"
   ]
  },
  {
   "cell_type": "code",
   "execution_count": 17,
   "metadata": {},
   "outputs": [],
   "source": [
    "from keras.models import Sequential, Model\n",
    "from keras.layers import Dense, GRU, Flatten, TimeDistributed, Flatten, BatchNormalization, Activation, Dropout\n",
    "from keras.layers.convolutional import Conv3D, MaxPooling3D\n",
    "from keras.callbacks import ModelCheckpoint, ReduceLROnPlateau\n",
    "from keras import optimizers\n",
    "\n",
    "#write your model here\n",
    "\n",
    "def define_second_model(filter_size=(2,2,2), dense_neurons=128, dropout=0.2, include_last=True):    \n",
    "\n",
    "    model = Sequential()\n",
    "\n",
    "    # Layer 1\n",
    "    model.add(Conv3D(8,filter_size,padding='same',input_shape=(frames_to_sample, img_height, img_width, 3), activation='relu'))\n",
    "    model.add(BatchNormalization())\n",
    "    model.add(MaxPooling3D(pool_size=(2, 2, 2)))\n",
    "\n",
    "    # Layer 2\n",
    "    model.add(Conv3D(16,filter_size,padding='same',input_shape=(frames_to_sample, img_height, img_width, 3), activation='relu'))\n",
    "    model.add(BatchNormalization())\n",
    "    model.add(MaxPooling3D(pool_size=(2, 2, 2)))\n",
    "\n",
    "    # Layer 3\n",
    "    model.add(Conv3D(32,filter_size,padding='same',input_shape=(frames_to_sample, img_height, img_width, 3), activation='relu'))\n",
    "    model.add(BatchNormalization())\n",
    "    model.add(MaxPooling3D(pool_size=(2, 2, 2)))\n",
    "\n",
    "    # Layer 4\n",
    "    model.add(Conv3D(64,filter_size,padding='same',input_shape=(frames_to_sample, img_height, img_width, 3), activation='relu'))\n",
    "    model.add(BatchNormalization())\n",
    "    model.add(MaxPooling3D(pool_size=(2, 2, 2)))\n",
    "    \n",
    "    if include_last:        \n",
    "        # Layer 5\n",
    "        model.add(Conv3D(128,filter_size,padding='same',input_shape=(frames_to_sample, img_height, img_width, 3), activation='relu'))\n",
    "        model.add(BatchNormalization())\n",
    "        model.add(MaxPooling3D(pool_size=(2, 2, 2),padding='same'))\n",
    "\n",
    "    # Flatter and put a fully connected layer\n",
    "    model.add(Flatten())\n",
    "    model.add(Dense(dense_neurons, activation='relu'))\n",
    "    model.add(BatchNormalization())\n",
    "    model.add(Dropout(dropout))\n",
    "    \n",
    "    #Output Softmax layer\n",
    "    model.add(Dense(nb_classes, activation='softmax'))\n",
    "    \n",
    "    return model"
   ]
  },
  {
   "cell_type": "code",
   "execution_count": 18,
   "metadata": {},
   "outputs": [
    {
     "name": "stdout",
     "output_type": "stream",
     "text": [
      "_________________________________________________________________\n",
      "Layer (type)                 Output Shape              Param #   \n",
      "=================================================================\n",
      "conv3d_5 (Conv3D)            (None, 20, 160, 160, 8)   200       \n",
      "_________________________________________________________________\n",
      "batch_normalization_6 (Batch (None, 20, 160, 160, 8)   32        \n",
      "_________________________________________________________________\n",
      "max_pooling3d_5 (MaxPooling3 (None, 10, 80, 80, 8)     0         \n",
      "_________________________________________________________________\n",
      "conv3d_6 (Conv3D)            (None, 10, 80, 80, 16)    1040      \n",
      "_________________________________________________________________\n",
      "batch_normalization_7 (Batch (None, 10, 80, 80, 16)    64        \n",
      "_________________________________________________________________\n",
      "max_pooling3d_6 (MaxPooling3 (None, 5, 40, 40, 16)     0         \n",
      "_________________________________________________________________\n",
      "conv3d_7 (Conv3D)            (None, 5, 40, 40, 32)     4128      \n",
      "_________________________________________________________________\n",
      "batch_normalization_8 (Batch (None, 5, 40, 40, 32)     128       \n",
      "_________________________________________________________________\n",
      "max_pooling3d_7 (MaxPooling3 (None, 2, 20, 20, 32)     0         \n",
      "_________________________________________________________________\n",
      "conv3d_8 (Conv3D)            (None, 2, 20, 20, 64)     16448     \n",
      "_________________________________________________________________\n",
      "batch_normalization_9 (Batch (None, 2, 20, 20, 64)     256       \n",
      "_________________________________________________________________\n",
      "max_pooling3d_8 (MaxPooling3 (None, 1, 10, 10, 64)     0         \n",
      "_________________________________________________________________\n",
      "conv3d_9 (Conv3D)            (None, 1, 10, 10, 128)    65664     \n",
      "_________________________________________________________________\n",
      "batch_normalization_10 (Batc (None, 1, 10, 10, 128)    512       \n",
      "_________________________________________________________________\n",
      "max_pooling3d_9 (MaxPooling3 (None, 1, 5, 5, 128)      0         \n",
      "_________________________________________________________________\n",
      "flatten_2 (Flatten)          (None, 3200)              0         \n",
      "_________________________________________________________________\n",
      "dense_3 (Dense)              (None, 128)               409728    \n",
      "_________________________________________________________________\n",
      "batch_normalization_11 (Batc (None, 128)               512       \n",
      "_________________________________________________________________\n",
      "dropout_2 (Dropout)          (None, 128)               0         \n",
      "_________________________________________________________________\n",
      "dense_4 (Dense)              (None, 5)                 645       \n",
      "=================================================================\n",
      "Total params: 499,357\n",
      "Trainable params: 498,605\n",
      "Non-trainable params: 752\n",
      "_________________________________________________________________\n",
      "None\n"
     ]
    }
   ],
   "source": [
    "# print summary of model 2\n",
    "\n",
    "conv3d2 = define_second_model()\n",
    "optimiser = optimizers.Adam(lr=0.001)\n",
    "conv3d2.compile(optimizer=optimiser, loss='categorical_crossentropy', metrics=['categorical_accuracy'])\n",
    "print(conv3d2.summary())"
   ]
  },
  {
   "cell_type": "code",
   "execution_count": 19,
   "metadata": {},
   "outputs": [],
   "source": [
    "# generators\n",
    "second_train_generator = augmented_generator(train_path, train_doc, batch_size, augment=True)\n",
    "second_val_generator = augmented_generator(val_path, val_doc, batch_size)"
   ]
  },
  {
   "cell_type": "code",
   "execution_count": 20,
   "metadata": {},
   "outputs": [],
   "source": [
    "# len(second_train_generator)"
   ]
  },
  {
   "cell_type": "code",
   "execution_count": 21,
   "metadata": {},
   "outputs": [],
   "source": [
    "# Model checkpoints and saving\n",
    "model_name = 'model_init' + '_' + str(curr_dt_time).replace(' ','').replace(':','_') + '/'\n",
    "    \n",
    "if not os.path.exists(model_name):\n",
    "    os.mkdir(model_name)\n",
    "        \n",
    "filepath = model_name + 'model-{epoch:05d}-{loss:.5f}-{categorical_accuracy:.5f}-{val_loss:.5f}-{val_categorical_accuracy:.5f}.h5'\n",
    "\n",
    "checkpoint = ModelCheckpoint(filepath, monitor='val_loss', verbose=1, save_best_only=False, save_weights_only=False, mode='auto', period=1)\n",
    "\n",
    "LR = ReduceLROnPlateau(monitor='val_loss', factor=0.2, verbose=1, patience=4)\n",
    "callbacks_list = [checkpoint, LR]"
   ]
  },
  {
   "cell_type": "code",
   "execution_count": 22,
   "metadata": {},
   "outputs": [],
   "source": [
    "# steps per epoch and validation steps\n",
    "if (num_train_sequences%batch_size) == 0:\n",
    "    steps_per_epoch = int(num_train_sequences/batch_size)\n",
    "else:\n",
    "    steps_per_epoch = (num_train_sequences//batch_size) + 1\n",
    "\n",
    "if (num_val_sequences%batch_size) == 0:\n",
    "    validation_steps = int(num_val_sequences/batch_size)\n",
    "else:\n",
    "    validation_steps = (num_val_sequences//batch_size) + 1"
   ]
  },
  {
   "cell_type": "code",
   "execution_count": 23,
   "metadata": {},
   "outputs": [
    {
     "name": "stdout",
     "output_type": "stream",
     "text": [
      "Source path =  ./Project_data/val ; batch size = 40\n",
      "Source path =  ./Project_data/train ; batch size = 40\n",
      "Epoch 1/10\n",
      "17/17 [==============================] - 108s 6s/step - loss: 1.2352 - categorical_accuracy: 0.5700 - val_loss: 1.4630 - val_categorical_accuracy: 0.6200\n",
      "\n",
      "Epoch 00001: saving model to model_init_2021-02-0314_34_33.169710/model-00001-1.23356-0.57014-1.46304-0.62000.h5\n",
      "Epoch 2/10\n",
      "17/17 [==============================] - 96s 6s/step - loss: 0.4209 - categorical_accuracy: 0.8516 - val_loss: 0.9184 - val_categorical_accuracy: 0.7300\n",
      "\n",
      "Epoch 00002: saving model to model_init_2021-02-0314_34_33.169710/model-00002-0.42326-0.85068-0.91842-0.73000.h5\n",
      "Epoch 3/10\n",
      "17/17 [==============================] - 98s 6s/step - loss: 0.2122 - categorical_accuracy: 0.9292 - val_loss: 0.8709 - val_categorical_accuracy: 0.7600\n",
      "\n",
      "Epoch 00003: saving model to model_init_2021-02-0314_34_33.169710/model-00003-0.21186-0.92911-0.87090-0.76000.h5\n",
      "Epoch 4/10\n",
      "17/17 [==============================] - 98s 6s/step - loss: 0.0959 - categorical_accuracy: 0.9796 - val_loss: 0.8219 - val_categorical_accuracy: 0.7700\n",
      "\n",
      "Epoch 00004: saving model to model_init_2021-02-0314_34_33.169710/model-00004-0.09622-0.97964-0.82195-0.77000.h5\n",
      "Epoch 5/10\n",
      "17/17 [==============================] - 97s 6s/step - loss: 0.0579 - categorical_accuracy: 0.9907 - val_loss: 0.8029 - val_categorical_accuracy: 0.7500\n",
      "\n",
      "Epoch 00005: saving model to model_init_2021-02-0314_34_33.169710/model-00005-0.05809-0.99095-0.80290-0.75000.h5\n",
      "Epoch 6/10\n",
      "17/17 [==============================] - 97s 6s/step - loss: 0.0289 - categorical_accuracy: 0.9993 - val_loss: 0.8786 - val_categorical_accuracy: 0.7400\n",
      "\n",
      "Epoch 00006: saving model to model_init_2021-02-0314_34_33.169710/model-00006-0.02830-0.99925-0.87858-0.74000.h5\n",
      "Epoch 7/10\n",
      "17/17 [==============================] - 99s 6s/step - loss: 0.0297 - categorical_accuracy: 0.9985 - val_loss: 0.7854 - val_categorical_accuracy: 0.7600\n",
      "\n",
      "Epoch 00007: saving model to model_init_2021-02-0314_34_33.169710/model-00007-0.02994-0.99849-0.78538-0.76000.h5\n",
      "Epoch 8/10\n",
      "17/17 [==============================] - 99s 6s/step - loss: 0.0214 - categorical_accuracy: 0.9978 - val_loss: 0.8393 - val_categorical_accuracy: 0.7600\n",
      "\n",
      "Epoch 00008: saving model to model_init_2021-02-0314_34_33.169710/model-00008-0.02130-0.99774-0.83928-0.76000.h5\n",
      "Epoch 9/10\n",
      "17/17 [==============================] - 99s 6s/step - loss: 0.0196 - categorical_accuracy: 0.9985 - val_loss: 0.7866 - val_categorical_accuracy: 0.7500\n",
      "\n",
      "Epoch 00009: saving model to model_init_2021-02-0314_34_33.169710/model-00009-0.01997-0.99849-0.78658-0.75000.h5\n",
      "Epoch 10/10\n",
      "17/17 [==============================] - 99s 6s/step - loss: 0.0158 - categorical_accuracy: 0.9993 - val_loss: 0.7103 - val_categorical_accuracy: 0.7600\n",
      "\n",
      "Epoch 00010: saving model to model_init_2021-02-0314_34_33.169710/model-00010-0.01539-0.99925-0.71033-0.76000.h5\n"
     ]
    }
   ],
   "source": [
    "history_conv3d2 = conv3d2.fit_generator(second_train_generator, steps_per_epoch=steps_per_epoch, epochs=num_epochs, verbose=1, \n",
    "                    callbacks=callbacks_list, validation_data=second_val_generator, \n",
    "                    validation_steps=validation_steps, class_weight=None, workers=1, initial_epoch=0)"
   ]
  },
  {
   "cell_type": "code",
   "execution_count": 24,
   "metadata": {},
   "outputs": [
    {
     "data": {
      "image/png": "[encoded data removed]",
      "text/plain": [
       "<Figure size 1080x288 with 2 Axes>"
      ]
     },
     "metadata": {},
     "output_type": "display_data"
    }
   ],
   "source": [
    "plot(history_conv3d2)"
   ]
  },
  {
   "cell_type": "markdown",
   "metadata": {},
   "source": [
    "Here again, the model is overfitting on the train data, but the validation accuracy is improved to ~76%.\n",
    "\n",
    "Let us increase the filter size to (3,3,3) and rerun the model."
   ]
  },
  {
   "cell_type": "code",
   "execution_count": 25,
   "metadata": {},
   "outputs": [
    {
     "name": "stdout",
     "output_type": "stream",
     "text": [
      "_________________________________________________________________\n",
      "Layer (type)                 Output Shape              Param #   \n",
      "=================================================================\n",
      "conv3d_10 (Conv3D)           (None, 20, 160, 160, 8)   656       \n",
      "_________________________________________________________________\n",
      "batch_normalization_12 (Batc (None, 20, 160, 160, 8)   32        \n",
      "_________________________________________________________________\n",
      "max_pooling3d_10 (MaxPooling (None, 10, 80, 80, 8)     0         \n",
      "_________________________________________________________________\n",
      "conv3d_11 (Conv3D)           (None, 10, 80, 80, 16)    3472      \n",
      "_________________________________________________________________\n",
      "batch_normalization_13 (Batc (None, 10, 80, 80, 16)    64        \n",
      "_________________________________________________________________\n",
      "max_pooling3d_11 (MaxPooling (None, 5, 40, 40, 16)     0         \n",
      "_________________________________________________________________\n",
      "conv3d_12 (Conv3D)           (None, 5, 40, 40, 32)     13856     \n",
      "_________________________________________________________________\n",
      "batch_normalization_14 (Batc (None, 5, 40, 40, 32)     128       \n",
      "_________________________________________________________________\n",
      "max_pooling3d_12 (MaxPooling (None, 2, 20, 20, 32)     0         \n",
      "_________________________________________________________________\n",
      "conv3d_13 (Conv3D)           (None, 2, 20, 20, 64)     55360     \n",
      "_________________________________________________________________\n",
      "batch_normalization_15 (Batc (None, 2, 20, 20, 64)     256       \n",
      "_________________________________________________________________\n",
      "max_pooling3d_13 (MaxPooling (None, 1, 10, 10, 64)     0         \n",
      "_________________________________________________________________\n",
      "conv3d_14 (Conv3D)           (None, 1, 10, 10, 128)    221312    \n",
      "_________________________________________________________________\n",
      "batch_normalization_16 (Batc (None, 1, 10, 10, 128)    512       \n",
      "_________________________________________________________________\n",
      "max_pooling3d_14 (MaxPooling (None, 1, 5, 5, 128)      0         \n",
      "_________________________________________________________________\n",
      "flatten_3 (Flatten)          (None, 3200)              0         \n",
      "_________________________________________________________________\n",
      "dense_5 (Dense)              (None, 128)               409728    \n",
      "_________________________________________________________________\n",
      "batch_normalization_17 (Batc (None, 128)               512       \n",
      "_________________________________________________________________\n",
      "dropout_3 (Dropout)          (None, 128)               0         \n",
      "_________________________________________________________________\n",
      "dense_6 (Dense)              (None, 5)                 645       \n",
      "=================================================================\n",
      "Total params: 706,533\n",
      "Trainable params: 705,781\n",
      "Non-trainable params: 752\n",
      "_________________________________________________________________\n",
      "None\n"
     ]
    }
   ],
   "source": [
    "# print summary of model 3\n",
    "\n",
    "conv3d3 = define_second_model(filter_size=(3,3,3))\n",
    "optimiser = optimizers.Adam(lr=0.001)\n",
    "conv3d3.compile(optimizer=optimiser, loss='categorical_crossentropy', metrics=['categorical_accuracy'])\n",
    "print(conv3d3.summary())"
   ]
  },
  {
   "cell_type": "code",
   "execution_count": 26,
   "metadata": {},
   "outputs": [],
   "source": [
    "# generators\n",
    "second_train_generator = augmented_generator(train_path, train_doc, batch_size, augment=True)\n",
    "second_val_generator = augmented_generator(val_path, val_doc, batch_size)\n",
    "\n",
    "\n",
    "# Model checkpoints and saving\n",
    "model_name = 'model_init' + '_' + str(curr_dt_time).replace(' ','').replace(':','_') + '/'\n",
    "    \n",
    "if not os.path.exists(model_name):\n",
    "    os.mkdir(model_name)\n",
    "        \n",
    "filepath = model_name + 'model-{epoch:05d}-{loss:.5f}-{categorical_accuracy:.5f}-{val_loss:.5f}-{val_categorical_accuracy:.5f}.h5'\n",
    "\n",
    "checkpoint = ModelCheckpoint(filepath, monitor='val_loss', verbose=1, save_best_only=False, save_weights_only=False, mode='auto', period=1)\n",
    "\n",
    "LR = ReduceLROnPlateau(monitor='val_loss', factor=0.2, verbose=1, patience=4)\n",
    "callbacks_list = [checkpoint, LR]\n",
    "\n",
    "\n",
    "# steps per epoch and validation steps\n",
    "if (num_train_sequences%batch_size) == 0:\n",
    "    steps_per_epoch = int(num_train_sequences/batch_size)\n",
    "else:\n",
    "    steps_per_epoch = (num_train_sequences//batch_size) + 1\n",
    "\n",
    "if (num_val_sequences%batch_size) == 0:\n",
    "    validation_steps = int(num_val_sequences/batch_size)\n",
    "else:\n",
    "    validation_steps = (num_val_sequences//batch_size) + 1"
   ]
  },
  {
   "cell_type": "code",
   "execution_count": 27,
   "metadata": {},
   "outputs": [
    {
     "name": "stdout",
     "output_type": "stream",
     "text": [
      "Source path =  ./Project_data/val ; batch size = 40\n",
      "Source path =  ./Project_data/train ; batch size = 40\n",
      "Epoch 1/10\n",
      "17/17 [==============================] - 113s 7s/step - loss: 1.4969 - categorical_accuracy: 0.4537 - val_loss: 3.8786 - val_categorical_accuracy: 0.3700\n",
      "\n",
      "Epoch 00001: saving model to model_init_2021-02-0314_34_33.169710/model-00001-1.49285-0.45626-3.87862-0.37000.h5\n",
      "Epoch 2/10\n",
      "17/17 [==============================] - 94s 6s/step - loss: 0.7537 - categorical_accuracy: 0.7075 - val_loss: 1.6425 - val_categorical_accuracy: 0.5900\n",
      "\n",
      "Epoch 00002: saving model to model_init_2021-02-0314_34_33.169710/model-00002-0.75836-0.70513-1.64252-0.59000.h5\n",
      "Epoch 3/10\n",
      "17/17 [==============================] - 98s 6s/step - loss: 0.4147 - categorical_accuracy: 0.8466 - val_loss: 1.0450 - val_categorical_accuracy: 0.7200\n",
      "\n",
      "Epoch 00003: saving model to model_init_2021-02-0314_34_33.169710/model-00003-0.41326-0.84766-1.04504-0.72000.h5\n",
      "Epoch 4/10\n",
      "17/17 [==============================] - 98s 6s/step - loss: 0.2371 - categorical_accuracy: 0.9221 - val_loss: 0.7836 - val_categorical_accuracy: 0.8000\n",
      "\n",
      "Epoch 00004: saving model to model_init_2021-02-0314_34_33.169710/model-00004-0.23526-0.92232-0.78364-0.80000.h5\n",
      "Epoch 5/10\n",
      "17/17 [==============================] - 98s 6s/step - loss: 0.1447 - categorical_accuracy: 0.9648 - val_loss: 0.7956 - val_categorical_accuracy: 0.7800\n",
      "\n",
      "Epoch 00005: saving model to model_init_2021-02-0314_34_33.169710/model-00005-0.14462-0.96606-0.79559-0.78000.h5\n",
      "Epoch 6/10\n",
      "17/17 [==============================] - 98s 6s/step - loss: 0.1081 - categorical_accuracy: 0.9728 - val_loss: 0.8170 - val_categorical_accuracy: 0.7600\n",
      "\n",
      "Epoch 00006: saving model to model_init_2021-02-0314_34_33.169710/model-00006-0.10957-0.97210-0.81699-0.76000.h5\n",
      "Epoch 7/10\n",
      "17/17 [==============================] - 98s 6s/step - loss: 0.0535 - categorical_accuracy: 0.9941 - val_loss: 0.7759 - val_categorical_accuracy: 0.7300\n",
      "\n",
      "Epoch 00007: saving model to model_init_2021-02-0314_34_33.169710/model-00007-0.05419-0.99397-0.77594-0.73000.h5\n",
      "Epoch 8/10\n",
      "17/17 [==============================] - 98s 6s/step - loss: 0.0357 - categorical_accuracy: 0.9963 - val_loss: 0.7941 - val_categorical_accuracy: 0.7800\n",
      "\n",
      "Epoch 00008: saving model to model_init_2021-02-0314_34_33.169710/model-00008-0.03399-0.99774-0.79411-0.78000.h5\n",
      "Epoch 9/10\n",
      "17/17 [==============================] - 99s 6s/step - loss: 0.0248 - categorical_accuracy: 0.9993 - val_loss: 0.7403 - val_categorical_accuracy: 0.7500\n",
      "\n",
      "Epoch 00009: saving model to model_init_2021-02-0314_34_33.169710/model-00009-0.02462-0.99925-0.74030-0.75000.h5\n",
      "Epoch 10/10\n",
      "17/17 [==============================] - 99s 6s/step - loss: 0.0174 - categorical_accuracy: 1.0000 - val_loss: 0.6773 - val_categorical_accuracy: 0.7900\n",
      "\n",
      "Epoch 00010: saving model to model_init_2021-02-0314_34_33.169710/model-00010-0.01752-1.00000-0.67725-0.79000.h5\n"
     ]
    }
   ],
   "source": [
    "# run the model\n",
    "history_conv3d3 = conv3d3.fit_generator(second_train_generator, steps_per_epoch=steps_per_epoch, epochs=num_epochs, verbose=1, \n",
    "                    callbacks=callbacks_list, validation_data=second_val_generator, \n",
    "                    validation_steps=validation_steps, class_weight=None, workers=1, initial_epoch=0)"
   ]
  },
  {
   "cell_type": "code",
   "execution_count": 28,
   "metadata": {},
   "outputs": [
    {
     "data": {
      "image/png": "[encoded data removed]",
      "text/plain": [
       "<Figure size 1080x288 with 2 Axes>"
      ]
     },
     "metadata": {},
     "output_type": "display_data"
    }
   ],
   "source": [
    "plot(history_conv3d3)"
   ]
  },
  {
   "cell_type": "markdown",
   "metadata": {},
   "source": [
    "### Build a model without last layer of 128 neurons"
   ]
  },
  {
   "cell_type": "code",
   "execution_count": 29,
   "metadata": {},
   "outputs": [
    {
     "name": "stdout",
     "output_type": "stream",
     "text": [
      "_________________________________________________________________\n",
      "Layer (type)                 Output Shape              Param #   \n",
      "=================================================================\n",
      "conv3d_15 (Conv3D)           (None, 20, 160, 160, 8)   656       \n",
      "_________________________________________________________________\n",
      "batch_normalization_18 (Batc (None, 20, 160, 160, 8)   32        \n",
      "_________________________________________________________________\n",
      "max_pooling3d_15 (MaxPooling (None, 10, 80, 80, 8)     0         \n",
      "_________________________________________________________________\n",
      "conv3d_16 (Conv3D)           (None, 10, 80, 80, 16)    3472      \n",
      "_________________________________________________________________\n",
      "batch_normalization_19 (Batc (None, 10, 80, 80, 16)    64        \n",
      "_________________________________________________________________\n",
      "max_pooling3d_16 (MaxPooling (None, 5, 40, 40, 16)     0         \n",
      "_________________________________________________________________\n",
      "conv3d_17 (Conv3D)           (None, 5, 40, 40, 32)     13856     \n",
      "_________________________________________________________________\n",
      "batch_normalization_20 (Batc (None, 5, 40, 40, 32)     128       \n",
      "_________________________________________________________________\n",
      "max_pooling3d_17 (MaxPooling (None, 2, 20, 20, 32)     0         \n",
      "_________________________________________________________________\n",
      "conv3d_18 (Conv3D)           (None, 2, 20, 20, 64)     55360     \n",
      "_________________________________________________________________\n",
      "batch_normalization_21 (Batc (None, 2, 20, 20, 64)     256       \n",
      "_________________________________________________________________\n",
      "max_pooling3d_18 (MaxPooling (None, 1, 10, 10, 64)     0         \n",
      "_________________________________________________________________\n",
      "flatten_4 (Flatten)          (None, 6400)              0         \n",
      "_________________________________________________________________\n",
      "dense_7 (Dense)              (None, 128)               819328    \n",
      "_________________________________________________________________\n",
      "batch_normalization_22 (Batc (None, 128)               512       \n",
      "_________________________________________________________________\n",
      "dropout_4 (Dropout)          (None, 128)               0         \n",
      "_________________________________________________________________\n",
      "dense_8 (Dense)              (None, 5)                 645       \n",
      "=================================================================\n",
      "Total params: 894,309\n",
      "Trainable params: 893,813\n",
      "Non-trainable params: 496\n",
      "_________________________________________________________________\n",
      "None\n"
     ]
    }
   ],
   "source": [
    "# print summary of model 4\n",
    "\n",
    "conv3d4 = define_second_model(filter_size=(3,3,3), include_last=False)\n",
    "optimiser = optimizers.Adam(lr=0.001)\n",
    "conv3d4.compile(optimizer=optimiser, loss='categorical_crossentropy', metrics=['categorical_accuracy'])\n",
    "print(conv3d4.summary())"
   ]
  },
  {
   "cell_type": "code",
   "execution_count": 30,
   "metadata": {},
   "outputs": [],
   "source": [
    "# generators\n",
    "second_train_generator = augmented_generator(train_path, train_doc, batch_size, augment=True)\n",
    "second_val_generator = augmented_generator(val_path, val_doc, batch_size)\n",
    "\n",
    "\n",
    "# Model checkpoints and saving\n",
    "model_name = 'model_init' + '_' + str(curr_dt_time).replace(' ','').replace(':','_') + '/'\n",
    "    \n",
    "if not os.path.exists(model_name):\n",
    "    os.mkdir(model_name)\n",
    "        \n",
    "filepath = model_name + 'model-{epoch:05d}-{loss:.5f}-{categorical_accuracy:.5f}-{val_loss:.5f}-{val_categorical_accuracy:.5f}.h5'\n",
    "\n",
    "checkpoint = ModelCheckpoint(filepath, monitor='val_loss', verbose=1, save_best_only=False, save_weights_only=False, mode='auto', period=1)\n",
    "\n",
    "LR = ReduceLROnPlateau(monitor='val_loss', factor=0.2, verbose=1, patience=4)\n",
    "callbacks_list = [checkpoint, LR]\n",
    "\n",
    "\n",
    "# steps per epoch and validation steps\n",
    "if (num_train_sequences%batch_size) == 0:\n",
    "    steps_per_epoch = int(num_train_sequences/batch_size)\n",
    "else:\n",
    "    steps_per_epoch = (num_train_sequences//batch_size) + 1\n",
    "\n",
    "if (num_val_sequences%batch_size) == 0:\n",
    "    validation_steps = int(num_val_sequences/batch_size)\n",
    "else:\n",
    "    validation_steps = (num_val_sequences//batch_size) + 1"
   ]
  },
  {
   "cell_type": "code",
   "execution_count": 31,
   "metadata": {},
   "outputs": [
    {
     "name": "stdout",
     "output_type": "stream",
     "text": [
      "Source path =  ./Project_data/val ; batch size = 40\n",
      "Source path =  ./Project_data/train ; batch size = 40\n",
      "Epoch 1/10\n",
      "17/17 [==============================] - 106s 6s/step - loss: 1.4078 - categorical_accuracy: 0.4902 - val_loss: 2.0640 - val_categorical_accuracy: 0.4900\n",
      "\n",
      "Epoch 00001: saving model to model_init_2021-02-0314_34_33.169710/model-00001-1.41609-0.48944-2.06404-0.49000.h5\n",
      "Epoch 2/10\n",
      "17/17 [==============================] - 95s 6s/step - loss: 0.5261 - categorical_accuracy: 0.8074 - val_loss: 1.7404 - val_categorical_accuracy: 0.5000\n",
      "\n",
      "Epoch 00002: saving model to model_init_2021-02-0314_34_33.169710/model-00002-0.52795-0.80694-1.74037-0.50000.h5\n",
      "Epoch 3/10\n",
      "17/17 [==============================] - 96s 6s/step - loss: 0.2975 - categorical_accuracy: 0.9007 - val_loss: 1.0637 - val_categorical_accuracy: 0.6400\n",
      "\n",
      "Epoch 00003: saving model to model_init_2021-02-0314_34_33.169710/model-00003-0.30039-0.90045-1.06374-0.64000.h5\n",
      "Epoch 4/10\n",
      "17/17 [==============================] - 97s 6s/step - loss: 0.1781 - categorical_accuracy: 0.9575 - val_loss: 0.9847 - val_categorical_accuracy: 0.6500\n",
      "\n",
      "Epoch 00004: saving model to model_init_2021-02-0314_34_33.169710/model-00004-0.17838-0.95701-0.98468-0.65000.h5\n",
      "Epoch 5/10\n",
      "17/17 [==============================] - 98s 6s/step - loss: 0.0937 - categorical_accuracy: 0.9798 - val_loss: 1.2476 - val_categorical_accuracy: 0.6300\n",
      "\n",
      "Epoch 00005: saving model to model_init_2021-02-0314_34_33.169710/model-00005-0.09292-0.98039-1.24764-0.63000.h5\n",
      "Epoch 6/10\n",
      "17/17 [==============================] - 98s 6s/step - loss: 0.0535 - categorical_accuracy: 0.9978 - val_loss: 1.0858 - val_categorical_accuracy: 0.6200\n",
      "\n",
      "Epoch 00006: saving model to model_init_2021-02-0314_34_33.169710/model-00006-0.05340-0.99774-1.08581-0.62000.h5\n",
      "Epoch 7/10\n",
      "17/17 [==============================] - 99s 6s/step - loss: 0.0272 - categorical_accuracy: 0.9985 - val_loss: 1.0140 - val_categorical_accuracy: 0.6600\n",
      "\n",
      "Epoch 00007: saving model to model_init_2021-02-0314_34_33.169710/model-00007-0.02731-0.99849-1.01405-0.66000.h5\n",
      "Epoch 8/10\n",
      "17/17 [==============================] - 98s 6s/step - loss: 0.0252 - categorical_accuracy: 0.9993 - val_loss: 0.9976 - val_categorical_accuracy: 0.6900\n",
      "\n",
      "Epoch 00008: saving model to model_init_2021-02-0314_34_33.169710/model-00008-0.02457-0.99925-0.99758-0.69000.h5\n",
      "\n",
      "Epoch 00008: ReduceLROnPlateau reducing learning rate to 0.00020000000949949026.\n",
      "Epoch 9/10\n",
      "17/17 [==============================] - 98s 6s/step - loss: 0.0160 - categorical_accuracy: 1.0000 - val_loss: 0.9829 - val_categorical_accuracy: 0.6800\n",
      "\n",
      "Epoch 00009: saving model to model_init_2021-02-0314_34_33.169710/model-00009-0.01597-1.00000-0.98288-0.68000.h5\n",
      "Epoch 10/10\n",
      "17/17 [==============================] - 99s 6s/step - loss: 0.0115 - categorical_accuracy: 1.0000 - val_loss: 0.9590 - val_categorical_accuracy: 0.7000\n",
      "\n",
      "Epoch 00010: saving model to model_init_2021-02-0314_34_33.169710/model-00010-0.01148-1.00000-0.95904-0.70000.h5\n"
     ]
    }
   ],
   "source": [
    "# run the model\n",
    "history_conv3d4 = conv3d4.fit_generator(second_train_generator, steps_per_epoch=steps_per_epoch, epochs=num_epochs, verbose=1, \n",
    "                    callbacks=callbacks_list, validation_data=second_val_generator, \n",
    "                    validation_steps=validation_steps, class_weight=None, workers=1, initial_epoch=0)"
   ]
  },
  {
   "cell_type": "code",
   "execution_count": 32,
   "metadata": {},
   "outputs": [
    {
     "data": {
      "image/png": "[encoded data removed]",
      "text/plain": [
       "<Figure size 1080x288 with 2 Axes>"
      ]
     },
     "metadata": {},
     "output_type": "display_data"
    }
   ],
   "source": [
    "plot(history_conv3d4)"
   ]
  },
  {
   "cell_type": "markdown",
   "metadata": {},
   "source": [
    "### Build a new model with less layers and different filter sizes"
   ]
  },
  {
   "cell_type": "code",
   "execution_count": 33,
   "metadata": {},
   "outputs": [],
   "source": [
    "from keras.models import Sequential, Model\n",
    "from keras.layers import Dense, GRU, Flatten, TimeDistributed, Flatten, BatchNormalization, Activation, Dropout\n",
    "from keras.layers.convolutional import Conv3D, MaxPooling3D\n",
    "from keras.callbacks import ModelCheckpoint, ReduceLROnPlateau\n",
    "from keras import optimizers\n",
    "\n",
    "#write your model here\n",
    "\n",
    "def define_third_model(filter_size=(3,3,3), dense_neurons=128, dropout=0.2):    \n",
    "\n",
    "    model = Sequential()\n",
    "\n",
    "    # Layer 1\n",
    "    model.add(Conv3D(8,filter_size,padding='same',input_shape=(frames_to_sample, img_height, img_width, 3), activation='relu'))\n",
    "    model.add(BatchNormalization())\n",
    "    model.add(MaxPooling3D(pool_size=(2, 2, 2)))\n",
    "\n",
    "    # Layer 2\n",
    "    model.add(Conv3D(16,filter_size,padding='same',input_shape=(frames_to_sample, img_height, img_width, 3), activation='relu'))\n",
    "    model.add(BatchNormalization())\n",
    "    model.add(MaxPooling3D(pool_size=(2, 2, 2)))\n",
    "\n",
    "    # Layer 3\n",
    "    model.add(Conv3D(32,filter_size,padding='same',input_shape=(frames_to_sample, img_height, img_width, 3), activation='relu'))\n",
    "    model.add(BatchNormalization())\n",
    "    model.add(MaxPooling3D(pool_size=(2, 2, 2)))\n",
    "\n",
    "    # Layer 4\n",
    "    model.add(Conv3D(64,filter_size,padding='same',input_shape=(frames_to_sample, img_height, img_width, 3), activation='relu'))\n",
    "    model.add(BatchNormalization())\n",
    "    model.add(MaxPooling3D(pool_size=(2, 2, 2)))\n",
    "    model.add(Dropout(dropout))\n",
    "    \n",
    "    # Layer 5\n",
    "    model.add(Conv3D(128,(2,2,2),padding='same',input_shape=(frames_to_sample, img_height, img_width, 3), activation='relu'))\n",
    "    model.add(BatchNormalization())\n",
    "    model.add(MaxPooling3D(pool_size=(2, 2, 2), padding='same'))\n",
    "    \n",
    "    # Flatter and put a fully connected layer\n",
    "    model.add(Flatten())\n",
    "    model.add(Dense(dense_neurons, activation='relu'))\n",
    "    model.add(BatchNormalization())\n",
    "    model.add(Dropout(dropout))\n",
    "    \n",
    "    model.add(Dense(dense_neurons, activation='relu'))\n",
    "    model.add(BatchNormalization())\n",
    "    model.add(Dropout(0.5))\n",
    "    \n",
    "    #Output Softmax layer\n",
    "    model.add(Dense(nb_classes, activation='softmax'))\n",
    "    \n",
    "    return model"
   ]
  },
  {
   "cell_type": "code",
   "execution_count": 34,
   "metadata": {},
   "outputs": [
    {
     "name": "stdout",
     "output_type": "stream",
     "text": [
      "_________________________________________________________________\n",
      "Layer (type)                 Output Shape              Param #   \n",
      "=================================================================\n",
      "conv3d_19 (Conv3D)           (None, 20, 160, 160, 8)   656       \n",
      "_________________________________________________________________\n",
      "batch_normalization_23 (Batc (None, 20, 160, 160, 8)   32        \n",
      "_________________________________________________________________\n",
      "max_pooling3d_19 (MaxPooling (None, 10, 80, 80, 8)     0         \n",
      "_________________________________________________________________\n",
      "conv3d_20 (Conv3D)           (None, 10, 80, 80, 16)    3472      \n",
      "_________________________________________________________________\n",
      "batch_normalization_24 (Batc (None, 10, 80, 80, 16)    64        \n",
      "_________________________________________________________________\n",
      "max_pooling3d_20 (MaxPooling (None, 5, 40, 40, 16)     0         \n",
      "_________________________________________________________________\n",
      "conv3d_21 (Conv3D)           (None, 5, 40, 40, 32)     13856     \n",
      "_________________________________________________________________\n",
      "batch_normalization_25 (Batc (None, 5, 40, 40, 32)     128       \n",
      "_________________________________________________________________\n",
      "max_pooling3d_21 (MaxPooling (None, 2, 20, 20, 32)     0         \n",
      "_________________________________________________________________\n",
      "conv3d_22 (Conv3D)           (None, 2, 20, 20, 64)     55360     \n",
      "_________________________________________________________________\n",
      "batch_normalization_26 (Batc (None, 2, 20, 20, 64)     256       \n",
      "_________________________________________________________________\n",
      "max_pooling3d_22 (MaxPooling (None, 1, 10, 10, 64)     0         \n",
      "_________________________________________________________________\n",
      "dropout_5 (Dropout)          (None, 1, 10, 10, 64)     0         \n",
      "_________________________________________________________________\n",
      "conv3d_23 (Conv3D)           (None, 1, 10, 10, 128)    65664     \n",
      "_________________________________________________________________\n",
      "batch_normalization_27 (Batc (None, 1, 10, 10, 128)    512       \n",
      "_________________________________________________________________\n",
      "max_pooling3d_23 (MaxPooling (None, 1, 5, 5, 128)      0         \n",
      "_________________________________________________________________\n",
      "flatten_5 (Flatten)          (None, 3200)              0         \n",
      "_________________________________________________________________\n",
      "dense_9 (Dense)              (None, 128)               409728    \n",
      "_________________________________________________________________\n",
      "batch_normalization_28 (Batc (None, 128)               512       \n",
      "_________________________________________________________________\n",
      "dropout_6 (Dropout)          (None, 128)               0         \n",
      "_________________________________________________________________\n",
      "dense_10 (Dense)             (None, 128)               16512     \n",
      "_________________________________________________________________\n",
      "batch_normalization_29 (Batc (None, 128)               512       \n",
      "_________________________________________________________________\n",
      "dropout_7 (Dropout)          (None, 128)               0         \n",
      "_________________________________________________________________\n",
      "dense_11 (Dense)             (None, 5)                 645       \n",
      "=================================================================\n",
      "Total params: 567,909\n",
      "Trainable params: 566,901\n",
      "Non-trainable params: 1,008\n",
      "_________________________________________________________________\n",
      "None\n"
     ]
    }
   ],
   "source": [
    "# print summary of model 5\n",
    "# reducing the learning rate as the model is overfitting the train data\n",
    "\n",
    "conv3d5 = define_third_model(filter_size=(3,3,3))\n",
    "optimiser = optimizers.Adam(lr=0.0002)\n",
    "conv3d5.compile(optimizer=optimiser, loss='categorical_crossentropy', metrics=['categorical_accuracy'])\n",
    "print(conv3d5.summary())"
   ]
  },
  {
   "cell_type": "code",
   "execution_count": 35,
   "metadata": {},
   "outputs": [
    {
     "name": "stdout",
     "output_type": "stream",
     "text": [
      "# training sequences = 663\n",
      "# validation sequences = 100\n",
      "# epochs = 20\n"
     ]
    }
   ],
   "source": [
    "curr_dt_time = datetime.datetime.now()\n",
    "train_path = './Project_data/train'\n",
    "val_path = './Project_data/val'\n",
    "num_train_sequences = len(train_doc)\n",
    "print('# training sequences =', num_train_sequences)\n",
    "num_val_sequences = len(val_doc)\n",
    "print('# validation sequences =', num_val_sequences)\n",
    "num_epochs = 20\n",
    "print ('# epochs =', num_epochs)"
   ]
  },
  {
   "cell_type": "code",
   "execution_count": 36,
   "metadata": {},
   "outputs": [],
   "source": [
    "# generators\n",
    "second_train_generator = augmented_generator(train_path, train_doc, 40, augment=True)\n",
    "second_val_generator = augmented_generator(val_path, val_doc, 40)\n",
    "\n",
    "\n",
    "# Model checkpoints and saving\n",
    "model_name = 'model_init' + '_' + str(curr_dt_time).replace(' ','').replace(':','_') + '/'\n",
    "    \n",
    "if not os.path.exists(model_name):\n",
    "    os.mkdir(model_name)\n",
    "        \n",
    "filepath = model_name + 'model-{epoch:05d}-{loss:.5f}-{categorical_accuracy:.5f}-{val_loss:.5f}-{val_categorical_accuracy:.5f}.h5'\n",
    "\n",
    "checkpoint = ModelCheckpoint(filepath, monitor='val_loss', verbose=1, save_best_only=False, save_weights_only=False, mode='auto', period=1)\n",
    "\n",
    "LR = ReduceLROnPlateau(monitor='val_loss', factor=0.2, verbose=1, patience=4)\n",
    "callbacks_list = [checkpoint, LR]\n",
    "\n",
    "\n",
    "# steps per epoch and validation steps\n",
    "if (num_train_sequences%batch_size) == 0:\n",
    "    steps_per_epoch = int(num_train_sequences/batch_size)\n",
    "else:\n",
    "    steps_per_epoch = (num_train_sequences//batch_size) + 1\n",
    "\n",
    "if (num_val_sequences%batch_size) == 0:\n",
    "    validation_steps = int(num_val_sequences/batch_size)\n",
    "else:\n",
    "    validation_steps = (num_val_sequences//batch_size) + 1"
   ]
  },
  {
   "cell_type": "code",
   "execution_count": 37,
   "metadata": {},
   "outputs": [
    {
     "name": "stdout",
     "output_type": "stream",
     "text": [
      "Source path =  ./Project_data/val ; batch size = 40\n",
      "Source path =  ./Project_data/train ; batch size = 40\n",
      "Epoch 1/20\n",
      "17/17 [==============================] - 109s 6s/step - loss: 2.3696 - categorical_accuracy: 0.2676 - val_loss: 1.5276 - val_categorical_accuracy: 0.4300\n",
      "\n",
      "Epoch 00001: saving model to model_init_2021-02-0315_24_33.569910/model-00001-2.37652-0.26621-1.52759-0.43000.h5\n",
      "Epoch 2/20\n",
      "17/17 [==============================] - 96s 6s/step - loss: 1.6656 - categorical_accuracy: 0.4385 - val_loss: 1.1658 - val_categorical_accuracy: 0.5000\n",
      "\n",
      "Epoch 00002: saving model to model_init_2021-02-0315_24_33.569910/model-00002-1.66541-0.43967-1.16581-0.50000.h5\n",
      "Epoch 3/20\n",
      "17/17 [==============================] - 101s 6s/step - loss: 1.4449 - categorical_accuracy: 0.4950 - val_loss: 1.0383 - val_categorical_accuracy: 0.6100\n",
      "\n",
      "Epoch 00003: saving model to model_init_2021-02-0315_24_33.569910/model-00003-1.43340-0.49698-1.03827-0.61000.h5\n",
      "Epoch 4/20\n",
      "17/17 [==============================] - 100s 6s/step - loss: 1.1676 - categorical_accuracy: 0.5713 - val_loss: 1.0221 - val_categorical_accuracy: 0.6300\n",
      "\n",
      "Epoch 00004: saving model to model_init_2021-02-0315_24_33.569910/model-00004-1.17490-0.56938-1.02209-0.63000.h5\n",
      "Epoch 5/20\n",
      "17/17 [==============================] - 100s 6s/step - loss: 1.1180 - categorical_accuracy: 0.5912 - val_loss: 0.9933 - val_categorical_accuracy: 0.6500\n",
      "\n",
      "Epoch 00005: saving model to model_init_2021-02-0315_24_33.569910/model-00005-1.12003-0.58974-0.99331-0.65000.h5\n",
      "Epoch 6/20\n",
      "17/17 [==============================] - 99s 6s/step - loss: 0.9241 - categorical_accuracy: 0.6669 - val_loss: 0.9086 - val_categorical_accuracy: 0.7000\n",
      "\n",
      "Epoch 00006: saving model to model_init_2021-02-0315_24_33.569910/model-00006-0.92874-0.66516-0.90863-0.70000.h5\n",
      "Epoch 7/20\n",
      "17/17 [==============================] - 99s 6s/step - loss: 0.7882 - categorical_accuracy: 0.7149 - val_loss: 0.8400 - val_categorical_accuracy: 0.7100\n",
      "\n",
      "Epoch 00007: saving model to model_init_2021-02-0315_24_33.569910/model-00007-0.77754-0.71795-0.84004-0.71000.h5\n",
      "Epoch 8/20\n",
      "17/17 [==============================] - 99s 6s/step - loss: 0.7352 - categorical_accuracy: 0.7172 - val_loss: 0.8416 - val_categorical_accuracy: 0.6900\n",
      "\n",
      "Epoch 00008: saving model to model_init_2021-02-0315_24_33.569910/model-00008-0.73706-0.71719-0.84157-0.69000.h5\n",
      "Epoch 9/20\n",
      "17/17 [==============================] - 99s 6s/step - loss: 0.6748 - categorical_accuracy: 0.7437 - val_loss: 0.7661 - val_categorical_accuracy: 0.7100\n",
      "\n",
      "Epoch 00009: saving model to model_init_2021-02-0315_24_33.569910/model-00009-0.66599-0.74434-0.76609-0.71000.h5\n",
      "Epoch 10/20\n",
      "17/17 [==============================] - 99s 6s/step - loss: 0.6121 - categorical_accuracy: 0.7734 - val_loss: 0.8524 - val_categorical_accuracy: 0.6900\n",
      "\n",
      "Epoch 00010: saving model to model_init_2021-02-0315_24_33.569910/model-00010-0.61086-0.77526-0.85243-0.69000.h5\n",
      "Epoch 11/20\n",
      "17/17 [==============================] - 100s 6s/step - loss: 0.5468 - categorical_accuracy: 0.7871 - val_loss: 0.8295 - val_categorical_accuracy: 0.7000\n",
      "\n",
      "Epoch 00011: saving model to model_init_2021-02-0315_24_33.569910/model-00011-0.54974-0.78507-0.82947-0.70000.h5\n",
      "Epoch 12/20\n",
      "17/17 [==============================] - 99s 6s/step - loss: 0.4949 - categorical_accuracy: 0.8098 - val_loss: 0.8094 - val_categorical_accuracy: 0.7200\n",
      "\n",
      "Epoch 00012: saving model to model_init_2021-02-0315_24_33.569910/model-00012-0.49361-0.81146-0.80936-0.72000.h5\n",
      "Epoch 13/20\n",
      "17/17 [==============================] - 100s 6s/step - loss: 0.4066 - categorical_accuracy: 0.8475 - val_loss: 0.8206 - val_categorical_accuracy: 0.7100\n",
      "\n",
      "Epoch 00013: saving model to model_init_2021-02-0315_24_33.569910/model-00013-0.41075-0.84540-0.82060-0.71000.h5\n",
      "\n",
      "Epoch 00013: ReduceLROnPlateau reducing learning rate to 3.9999998989515007e-05.\n",
      "Epoch 14/20\n",
      "17/17 [==============================] - 98s 6s/step - loss: 0.4111 - categorical_accuracy: 0.8442 - val_loss: 0.7979 - val_categorical_accuracy: 0.7000\n",
      "\n",
      "Epoch 00014: saving model to model_init_2021-02-0315_24_33.569910/model-00014-0.40839-0.84465-0.79786-0.70000.h5\n",
      "Epoch 15/20\n",
      "17/17 [==============================] - 99s 6s/step - loss: 0.3942 - categorical_accuracy: 0.8504 - val_loss: 0.7850 - val_categorical_accuracy: 0.7000\n",
      "\n",
      "Epoch 00015: saving model to model_init_2021-02-0315_24_33.569910/model-00015-0.39607-0.84992-0.78497-0.70000.h5\n",
      "Epoch 16/20\n",
      "17/17 [==============================] - 98s 6s/step - loss: 0.3882 - categorical_accuracy: 0.8651 - val_loss: 0.7768 - val_categorical_accuracy: 0.7200\n",
      "\n",
      "Epoch 00016: saving model to model_init_2021-02-0315_24_33.569910/model-00016-0.39027-0.86501-0.77681-0.72000.h5\n",
      "Epoch 17/20\n",
      "17/17 [==============================] - 97s 6s/step - loss: 0.3715 - categorical_accuracy: 0.8744 - val_loss: 0.7778 - val_categorical_accuracy: 0.7200\n",
      "\n",
      "Epoch 00017: saving model to model_init_2021-02-0315_24_33.569910/model-00017-0.37124-0.87557-0.77778-0.72000.h5\n",
      "\n",
      "Epoch 00017: ReduceLROnPlateau reducing learning rate to 7.999999797903002e-06.\n",
      "Epoch 18/20\n",
      "17/17 [==============================] - 98s 6s/step - loss: 0.3849 - categorical_accuracy: 0.8524 - val_loss: 0.7791 - val_categorical_accuracy: 0.7100\n",
      "\n",
      "Epoch 00018: saving model to model_init_2021-02-0315_24_33.569910/model-00018-0.38560-0.85143-0.77908-0.71000.h5\n",
      "Epoch 19/20\n",
      "17/17 [==============================] - 97s 6s/step - loss: 0.3682 - categorical_accuracy: 0.8699 - val_loss: 0.7837 - val_categorical_accuracy: 0.7100\n",
      "\n",
      "Epoch 00019: saving model to model_init_2021-02-0315_24_33.569910/model-00019-0.36324-0.87255-0.78371-0.71000.h5\n",
      "Epoch 20/20\n",
      "17/17 [==============================] - 97s 6s/step - loss: 0.3789 - categorical_accuracy: 0.8584 - val_loss: 0.7854 - val_categorical_accuracy: 0.7100\n",
      "\n",
      "Epoch 00020: saving model to model_init_2021-02-0315_24_33.569910/model-00020-0.37589-0.85973-0.78545-0.71000.h5\n"
     ]
    }
   ],
   "source": [
    "# run the model\n",
    "history_conv3d5 = conv3d5.fit_generator(second_train_generator, steps_per_epoch=steps_per_epoch, epochs=num_epochs, verbose=1, \n",
    "                    callbacks=callbacks_list, validation_data=second_val_generator, \n",
    "                    validation_steps=validation_steps, class_weight=None, workers=1, initial_epoch=0)"
   ]
  },
  {
   "cell_type": "code",
   "execution_count": 38,
   "metadata": {},
   "outputs": [
    {
     "data": {
      "image/png": "[encoded data removed]",
      "text/plain": [
       "<Figure size 1080x288 with 2 Axes>"
      ]
     },
     "metadata": {},
     "output_type": "display_data"
    }
   ],
   "source": [
    "plot(history_conv3d5)"
   ]
  },
  {
   "cell_type": "markdown",
   "metadata": {},
   "source": [
    "#### Thus with Conv3D model we were able to achieve 72% of accuracy on validation data set with data augmentation"
   ]
  },
  {
   "cell_type": "markdown",
   "metadata": {},
   "source": [
    "### CNN + RNN Model with GRU"
   ]
  },
  {
   "cell_type": "code",
   "execution_count": 39,
   "metadata": {},
   "outputs": [],
   "source": [
    "train_doc = np.random.permutation(open('./Project_data/train.csv').readlines())\n",
    "val_doc = np.random.permutation(open('./Project_data/val.csv').readlines())\n",
    "batch_size = 32"
   ]
  },
  {
   "cell_type": "code",
   "execution_count": 40,
   "metadata": {},
   "outputs": [],
   "source": [
    "frames = range(5,25)\n",
    "frames_to_sample = len(frames)\n",
    "img_height = 100\n",
    "img_width = 100\n",
    "nb_classes=5"
   ]
  },
  {
   "cell_type": "code",
   "execution_count": 41,
   "metadata": {},
   "outputs": [],
   "source": [
    "def rnn_generator(source_path, folder_list, batch_size):\n",
    "    print( 'Source path = ', source_path, '; batch size =', batch_size)\n",
    "    img_idx = frames\n",
    "    while True:\n",
    "        t = np.random.permutation(folder_list)\n",
    "        num_batches = int(np.floor(len(folder_list)/batch_size))\n",
    "        for batch in range(num_batches): # we iterate over the number of batches\n",
    "            x = len(img_idx)\n",
    "            y = img_height\n",
    "            z = img_width\n",
    "            batch_data = np.zeros((batch_size,x,y,z,3)) # x is the number of images you use for each video, (y,z) is the final size of the input images and 3 is the number of channels RGB\n",
    "            batch_labels = np.zeros((batch_size,5)) # batch_labels is the one hot representation of the output\n",
    "            for folder in range(batch_size): # iterate over the batch_size\n",
    "                imgs = os.listdir(source_path+'/'+ t[folder + (batch*batch_size)].split(';')[0]) # read all the images in the folder\n",
    "                for idx,item in enumerate(img_idx): #  Iterate iver the frames/images of a folder to read them in\n",
    "                    image = imread(source_path+'/'+ t[folder + (batch*batch_size)].strip().split(';')[0]+'/'+imgs[item]).astype(np.float32)\n",
    "                    \n",
    "                    #crop the images and resize them. Note that the images are of 2 different shape \n",
    "                    #and the conv3D will throw error if the inputs in a batch have different shapes\n",
    "                    \n",
    "                    image = imresize(image,(y,z,3))\n",
    "                    \n",
    "                    norm_image = (image - np.mean(image))/(np.max(image) - np.min(image))\n",
    "                    \n",
    "                    batch_data[folder,idx,:,:,0] = norm_image[:,:,0]\n",
    "                    batch_data[folder,idx,:,:,1] = norm_image[:,:,1]\n",
    "                    batch_data[folder,idx,:,:,2] = norm_image[:,:,2]\n",
    "                    \n",
    "                batch_labels[folder, int(t[folder + (batch*batch_size)].strip().split(';')[2])] = 1\n",
    "            yield batch_data, batch_labels #you yield the batch_data and the batch_labels, remember what does yield do\n",
    "\n",
    "        \n",
    "        # write the code for the remaining data points which are left after full batches\n",
    "        num_rem_seqs = len(folder_list) - (num_batches*batch_size)\n",
    "        if num_rem_seqs > 0:\n",
    "            x = len(img_idx)\n",
    "            y = img_height\n",
    "            z = img_width\n",
    "            batch_data = np.zeros((num_rem_seqs,x,y,z,3)) # x is the number of images you use for each video, (y,z) is the final size of the input images and 3 is the number of channels RGB\n",
    "            batch_labels = np.zeros((num_rem_seqs,5)) # batch_labels is the one hot representation of the output\n",
    "            rem_seqs = t[len(t)-num_rem_seqs:]\n",
    "            for folder in range(num_rem_seqs): # iterate over the remaining sequences\n",
    "                imgs = os.listdir(source_path+'/'+ rem_seqs[folder].split(';')[0]) # read all the images in the folder\n",
    "                for idx,item in enumerate(img_idx): #  Iterate iver the frames/images of a folder to read them in\n",
    "                    image = imread(source_path+'/'+ rem_seqs[folder].strip().split(';')[0]+'/'+imgs[item]).astype(np.float32)\n",
    "                    \n",
    "                    #crop the images and resize them. Note that the images are of 2 different shape \n",
    "                    #and the conv3D will throw error if the inputs in a batch have different shapes\n",
    "                    \n",
    "                    image = imresize(image,(y,z,3))\n",
    "                    \n",
    "                    norm_image = (image - np.mean(image))/(np.max(image) - np.min(image))\n",
    "                    \n",
    "                    batch_data[folder,idx,:,:,0] = norm_image[:,:,0]\n",
    "                    batch_data[folder,idx,:,:,1] = norm_image[:,:,1]\n",
    "                    batch_data[folder,idx,:,:,2] = norm_image[:,:,2]\n",
    "                    \n",
    "                batch_labels[folder, int(rem_seqs[folder].strip().split(';')[2])] = 1\n",
    "            yield batch_data, batch_labels #you yield the batch_data and the batch_labels, remember what does yield do"
   ]
  },
  {
   "cell_type": "code",
   "execution_count": 42,
   "metadata": {},
   "outputs": [],
   "source": [
    "from keras.applications import vgg16, resnet50, mobilenet\n",
    "from keras.models import Sequential, Model\n",
    "from keras.layers import Dense, GRU, Flatten, TimeDistributed, Flatten, BatchNormalization, Activation, Dropout\n",
    "from keras.layers.convolutional import Conv3D, MaxPooling3D, MaxPooling2D\n",
    "from keras.callbacks import ModelCheckpoint, ReduceLROnPlateau\n",
    "from keras import optimizers"
   ]
  },
  {
   "cell_type": "code",
   "execution_count": 43,
   "metadata": {},
   "outputs": [],
   "source": [
    "def cnn_rnn_model_1(gru_cells=64, dense_neurons=64, dropout=0.25):\n",
    "    \n",
    "    vgg_model = vgg16.VGG16(weights='imagenet', include_top=False, input_shape=(img_height, img_width,3))\n",
    "    \n",
    "    model = Sequential()\n",
    "    \n",
    "    model.add(TimeDistributed(vgg_model, input_shape=(frames_to_sample, img_height, img_width, 3)))\n",
    "    model.add(TimeDistributed(MaxPooling2D((2, 2))))\n",
    "    model.add(TimeDistributed(Flatten()))\n",
    "    \n",
    "    for layer in vgg_model.layers:\n",
    "        layer.trainable=False\n",
    "    \n",
    "    model.add(GRU(gru_cells, use_bias=False))\n",
    "    model.add(Dropout(dropout))\n",
    "    \n",
    "    \n",
    "    model.add(Dense(dense_neurons, activation='relu'))\n",
    "    model.add(Dropout(dropout))\n",
    "    \n",
    "    model.add(Dense(nb_classes, activation='softmax'))\n",
    "    \n",
    "    return model"
   ]
  },
  {
   "cell_type": "code",
   "execution_count": 44,
   "metadata": {},
   "outputs": [
    {
     "name": "stdout",
     "output_type": "stream",
     "text": [
      "Downloading data from https://github.com/fchollet/deep-learning-models/releases/download/v0.1/vgg16_weights_tf_dim_ordering_tf_kernels_notop.h5\n",
      "58892288/58889256 [==============================] - 5s 0us/step\n",
      "_________________________________________________________________\n",
      "Layer (type)                 Output Shape              Param #   \n",
      "=================================================================\n",
      "time_distributed_1 (TimeDist (None, 20, 3, 3, 512)     14714688  \n",
      "_________________________________________________________________\n",
      "time_distributed_2 (TimeDist (None, 20, 1, 1, 512)     0         \n",
      "_________________________________________________________________\n",
      "time_distributed_3 (TimeDist (None, 20, 512)           0         \n",
      "_________________________________________________________________\n",
      "gru_1 (GRU)                  (None, 64)                110592    \n",
      "_________________________________________________________________\n",
      "dropout_8 (Dropout)          (None, 64)                0         \n",
      "_________________________________________________________________\n",
      "dense_12 (Dense)             (None, 64)                4160      \n",
      "_________________________________________________________________\n",
      "dropout_9 (Dropout)          (None, 64)                0         \n",
      "_________________________________________________________________\n",
      "dense_13 (Dense)             (None, 5)                 325       \n",
      "=================================================================\n",
      "Total params: 14,829,765\n",
      "Trainable params: 115,077\n",
      "Non-trainable params: 14,714,688\n",
      "_________________________________________________________________\n",
      "None\n"
     ]
    }
   ],
   "source": [
    "cnn_rnn_1 = cnn_rnn_model_1()\n",
    "optimiser = optimizers.Adam()\n",
    "cnn_rnn_1.compile(optimizer=optimiser, loss='categorical_crossentropy', metrics=['categorical_accuracy'])\n",
    "print(cnn_rnn_1.summary())"
   ]
  },
  {
   "cell_type": "code",
   "execution_count": 45,
   "metadata": {},
   "outputs": [
    {
     "name": "stdout",
     "output_type": "stream",
     "text": [
      "# training sequences = 663\n",
      "# validation sequences = 100\n",
      "# epochs = 15\n"
     ]
    }
   ],
   "source": [
    "curr_dt_time = datetime.datetime.now()\n",
    "train_path = './Project_data/train'\n",
    "val_path = './Project_data/val'\n",
    "num_train_sequences = len(train_doc)\n",
    "print('# training sequences =', num_train_sequences)\n",
    "num_val_sequences = len(val_doc)\n",
    "print('# validation sequences =', num_val_sequences)\n",
    "num_epochs = 15\n",
    "print ('# epochs =', num_epochs)"
   ]
  },
  {
   "cell_type": "code",
   "execution_count": 46,
   "metadata": {},
   "outputs": [],
   "source": [
    "# generators\n",
    "rnn_train_generator = rnn_generator(train_path, train_doc, batch_size)\n",
    "rnn_val_generator = rnn_generator(val_path, val_doc, batch_size)\n",
    "\n",
    "\n",
    "# Model checkpoints and saving\n",
    "model_name = 'model_init' + '_' + str(curr_dt_time).replace(' ','').replace(':','_') + '/'\n",
    "    \n",
    "if not os.path.exists(model_name):\n",
    "    os.mkdir(model_name)\n",
    "        \n",
    "filepath = model_name + 'model-{epoch:05d}-{loss:.5f}-{categorical_accuracy:.5f}-{val_loss:.5f}-{val_categorical_accuracy:.5f}.h5'\n",
    "\n",
    "checkpoint = ModelCheckpoint(filepath, monitor='val_loss', verbose=1, save_best_only=False, save_weights_only=False, mode='auto', period=1)\n",
    "\n",
    "LR = ReduceLROnPlateau(monitor='val_loss', factor=0.2, verbose=1, patience=4)\n",
    "callbacks_list = [checkpoint, LR]\n",
    "\n",
    "\n",
    "# steps per epoch and validation steps\n",
    "if (num_train_sequences%batch_size) == 0:\n",
    "    steps_per_epoch = int(num_train_sequences/batch_size)\n",
    "else:\n",
    "    steps_per_epoch = (num_train_sequences//batch_size) + 1\n",
    "\n",
    "if (num_val_sequences%batch_size) == 0:\n",
    "    validation_steps = int(num_val_sequences/batch_size)\n",
    "else:\n",
    "    validation_steps = (num_val_sequences//batch_size) + 1"
   ]
  },
  {
   "cell_type": "code",
   "execution_count": 47,
   "metadata": {},
   "outputs": [
    {
     "name": "stdout",
     "output_type": "stream",
     "text": [
      "Source path =  ./Project_data/val ; batch size = 32\n",
      "Source path =  ./Project_data/train ; batch size = 32\n",
      "Epoch 1/15\n",
      "21/21 [==============================] - 70s 3s/step - loss: 1.6511 - categorical_accuracy: 0.2520 - val_loss: 1.5128 - val_categorical_accuracy: 0.3400\n",
      "\n",
      "Epoch 00001: saving model to model_init_2021-02-0315_57_59.424174/model-00001-1.65063-0.25189-1.51282-0.34000.h5\n",
      "Epoch 2/15\n",
      "21/21 [==============================] - 44s 2s/step - loss: 1.4664 - categorical_accuracy: 0.3756 - val_loss: 1.3652 - val_categorical_accuracy: 0.5200\n",
      "\n",
      "Epoch 00002: saving model to model_init_2021-02-0315_57_59.424174/model-00002-1.46470-0.37707-1.36517-0.52000.h5\n",
      "Epoch 3/15\n",
      "21/21 [==============================] - 55s 3s/step - loss: 1.3365 - categorical_accuracy: 0.4456 - val_loss: 1.2626 - val_categorical_accuracy: 0.5700\n",
      "\n",
      "Epoch 00003: saving model to model_init_2021-02-0315_57_59.424174/model-00003-1.33978-0.44344-1.26255-0.57000.h5\n",
      "Epoch 4/15\n",
      "21/21 [==============================] - 55s 3s/step - loss: 1.1425 - categorical_accuracy: 0.5706 - val_loss: 1.1864 - val_categorical_accuracy: 0.5200\n",
      "\n",
      "Epoch 00004: saving model to model_init_2021-02-0315_57_59.424174/model-00004-1.14318-0.57014-1.18637-0.52000.h5\n",
      "Epoch 5/15\n",
      "21/21 [==============================] - 55s 3s/step - loss: 0.9551 - categorical_accuracy: 0.6391 - val_loss: 1.0488 - val_categorical_accuracy: 0.6000\n",
      "\n",
      "Epoch 00005: saving model to model_init_2021-02-0315_57_59.424174/model-00005-0.95461-0.63952-1.04880-0.60000.h5\n",
      "Epoch 6/15\n",
      "21/21 [==============================] - 53s 3s/step - loss: 0.8430 - categorical_accuracy: 0.6672 - val_loss: 1.0104 - val_categorical_accuracy: 0.6500\n",
      "\n",
      "Epoch 00006: saving model to model_init_2021-02-0315_57_59.424174/model-00006-0.84543-0.66516-1.01036-0.65000.h5\n",
      "Epoch 7/15\n",
      "21/21 [==============================] - 53s 3s/step - loss: 0.7537 - categorical_accuracy: 0.7192 - val_loss: 0.9148 - val_categorical_accuracy: 0.6200\n",
      "\n",
      "Epoch 00007: saving model to model_init_2021-02-0315_57_59.424174/model-00007-0.75184-0.71946-0.91485-0.62000.h5\n",
      "Epoch 8/15\n",
      "21/21 [==============================] - 54s 3s/step - loss: 0.6583 - categorical_accuracy: 0.7629 - val_loss: 0.9514 - val_categorical_accuracy: 0.6100\n",
      "\n",
      "Epoch 00008: saving model to model_init_2021-02-0315_57_59.424174/model-00008-0.65750-0.76320-0.95142-0.61000.h5\n",
      "Epoch 9/15\n",
      "21/21 [==============================] - 53s 3s/step - loss: 0.5865 - categorical_accuracy: 0.7858 - val_loss: 0.9379 - val_categorical_accuracy: 0.6800\n",
      "\n",
      "Epoch 00009: saving model to model_init_2021-02-0315_57_59.424174/model-00009-0.58530-0.78582-0.93789-0.68000.h5\n",
      "Epoch 10/15\n",
      "21/21 [==============================] - 53s 3s/step - loss: 0.4291 - categorical_accuracy: 0.8310 - val_loss: 1.0180 - val_categorical_accuracy: 0.6400\n",
      "\n",
      "Epoch 00010: saving model to model_init_2021-02-0315_57_59.424174/model-00010-0.42975-0.83107-1.01797-0.64000.h5\n",
      "Epoch 11/15\n",
      "21/21 [==============================] - 54s 3s/step - loss: 0.3877 - categorical_accuracy: 0.8692 - val_loss: 0.8774 - val_categorical_accuracy: 0.6800\n",
      "\n",
      "Epoch 00011: saving model to model_init_2021-02-0315_57_59.424174/model-00011-0.38573-0.87029-0.87736-0.68000.h5\n",
      "Epoch 12/15\n",
      "21/21 [==============================] - 55s 3s/step - loss: 0.2930 - categorical_accuracy: 0.9021 - val_loss: 0.9150 - val_categorical_accuracy: 0.6700\n",
      "\n",
      "Epoch 00012: saving model to model_init_2021-02-0315_57_59.424174/model-00012-0.29220-0.90196-0.91500-0.67000.h5\n",
      "Epoch 13/15\n",
      "21/21 [==============================] - 54s 3s/step - loss: 0.2115 - categorical_accuracy: 0.9399 - val_loss: 1.0651 - val_categorical_accuracy: 0.6800\n",
      "\n",
      "Epoch 00013: saving model to model_init_2021-02-0315_57_59.424174/model-00013-0.21260-0.93967-1.06515-0.68000.h5\n",
      "Epoch 14/15\n",
      "21/21 [==============================] - 54s 3s/step - loss: 0.1518 - categorical_accuracy: 0.9607 - val_loss: 1.1665 - val_categorical_accuracy: 0.6600\n",
      "\n",
      "Epoch 00014: saving model to model_init_2021-02-0315_57_59.424174/model-00014-0.15137-0.96078-1.16650-0.66000.h5\n",
      "Epoch 15/15\n",
      "21/21 [==============================] - 53s 3s/step - loss: 0.2833 - categorical_accuracy: 0.8973 - val_loss: 1.0653 - val_categorical_accuracy: 0.6600\n",
      "\n",
      "Epoch 00015: saving model to model_init_2021-02-0315_57_59.424174/model-00015-0.28576-0.89593-1.06530-0.66000.h5\n",
      "\n",
      "Epoch 00015: ReduceLROnPlateau reducing learning rate to 0.00020000000949949026.\n"
     ]
    }
   ],
   "source": [
    "# run the model\n",
    "history_cnn_rnn_1 = cnn_rnn_1.fit_generator(rnn_train_generator, steps_per_epoch=steps_per_epoch, epochs=num_epochs, verbose=1, \n",
    "                    callbacks=callbacks_list, validation_data=rnn_val_generator, \n",
    "                    validation_steps=validation_steps, class_weight=None, workers=1, initial_epoch=0)"
   ]
  },
  {
   "cell_type": "code",
   "execution_count": 48,
   "metadata": {},
   "outputs": [
    {
     "data": {
      "image/png": "[encoded data removed]",
      "text/plain": [
       "<Figure size 1080x288 with 2 Axes>"
      ]
     },
     "metadata": {},
     "output_type": "display_data"
    }
   ],
   "source": [
    "plot(history_cnn_rnn_1)"
   ]
  },
  {
   "cell_type": "markdown",
   "metadata": {},
   "source": [
    "The trainind accuracy and validation accuracy are having huge difference.\n",
    "\n",
    "Let us try another transfer learning model"
   ]
  },
  {
   "cell_type": "code",
   "execution_count": 49,
   "metadata": {},
   "outputs": [],
   "source": [
    "def cnn_rnn_model_2(gru_cells=64, dense_neurons=64, dropout=0.25):\n",
    "    \n",
    "    mobilenet_model = mobilenet.MobileNet(weights='imagenet', include_top=False, input_shape=(img_height, img_width,3))\n",
    "    \n",
    "    model = Sequential()\n",
    "    \n",
    "    model.add(TimeDistributed(mobilenet_model, input_shape=(frames_to_sample, img_height, img_width, 3)))\n",
    "    model.add(TimeDistributed(MaxPooling2D((2, 2))))\n",
    "    model.add(TimeDistributed(Flatten()))\n",
    "    \n",
    "    for layer in mobilenet_model.layers:\n",
    "        layer.trainable=False\n",
    "    \n",
    "    model.add(GRU(gru_cells, use_bias=False))\n",
    "    model.add(Dropout(dropout))\n",
    "    \n",
    "    \n",
    "    model.add(Dense(dense_neurons, activation='relu'))\n",
    "    model.add(Dropout(dropout))\n",
    "    \n",
    "    model.add(Dense(nb_classes, activation='softmax'))\n",
    "    \n",
    "    return model"
   ]
  },
  {
   "cell_type": "code",
   "execution_count": 50,
   "metadata": {},
   "outputs": [
    {
     "name": "stdout",
     "output_type": "stream",
     "text": [
      "Downloading data from https://github.com/fchollet/deep-learning-models/releases/download/v0.6/mobilenet_1_0_128_tf_no_top.h5\n",
      "17227776/17225924 [==============================] - 1s 0us/step\n",
      "_________________________________________________________________\n",
      "Layer (type)                 Output Shape              Param #   \n",
      "=================================================================\n",
      "time_distributed_4 (TimeDist (None, 20, 4, 4, 1024)    3228864   \n",
      "_________________________________________________________________\n",
      "time_distributed_5 (TimeDist (None, 20, 2, 2, 1024)    0         \n",
      "_________________________________________________________________\n",
      "time_distributed_6 (TimeDist (None, 20, 4096)          0         \n",
      "_________________________________________________________________\n",
      "gru_2 (GRU)                  (None, 128)               1622016   \n",
      "_________________________________________________________________\n",
      "dropout_10 (Dropout)         (None, 128)               0         \n",
      "_________________________________________________________________\n",
      "dense_14 (Dense)             (None, 128)               16512     \n",
      "_________________________________________________________________\n",
      "dropout_11 (Dropout)         (None, 128)               0         \n",
      "_________________________________________________________________\n",
      "dense_15 (Dense)             (None, 5)                 645       \n",
      "=================================================================\n",
      "Total params: 4,868,037\n",
      "Trainable params: 1,639,173\n",
      "Non-trainable params: 3,228,864\n",
      "_________________________________________________________________\n",
      "None\n"
     ]
    }
   ],
   "source": [
    "frames = range(5,25)\n",
    "frames_to_sample = len(frames)\n",
    "img_height = 128\n",
    "img_width = 128\n",
    "nb_classes=5\n",
    "\n",
    "cnn_rnn_2 = cnn_rnn_model_2(dense_neurons=128, gru_cells=128)\n",
    "optimiser = optimizers.Adam()\n",
    "cnn_rnn_2.compile(optimizer=optimiser, loss='categorical_crossentropy', metrics=['categorical_accuracy'])\n",
    "print(cnn_rnn_2.summary())"
   ]
  },
  {
   "cell_type": "code",
   "execution_count": 51,
   "metadata": {},
   "outputs": [
    {
     "name": "stdout",
     "output_type": "stream",
     "text": [
      "# training sequences = 663\n",
      "# validation sequences = 100\n",
      "# epochs = 10\n"
     ]
    }
   ],
   "source": [
    "curr_dt_time = datetime.datetime.now()\n",
    "train_path = './Project_data/train'\n",
    "val_path = './Project_data/val'\n",
    "num_train_sequences = len(train_doc)\n",
    "print('# training sequences =', num_train_sequences)\n",
    "num_val_sequences = len(val_doc)\n",
    "print('# validation sequences =', num_val_sequences)\n",
    "num_epochs = 10\n",
    "print ('# epochs =', num_epochs)"
   ]
  },
  {
   "cell_type": "code",
   "execution_count": 52,
   "metadata": {},
   "outputs": [],
   "source": [
    "# generators\n",
    "rnn_train_generator = rnn_generator(train_path, train_doc, batch_size)\n",
    "rnn_val_generator = rnn_generator(val_path, val_doc, batch_size)\n",
    "\n",
    "\n",
    "# Model checkpoints and saving\n",
    "model_name = 'model_init' + '_' + str(curr_dt_time).replace(' ','').replace(':','_') + '/'\n",
    "    \n",
    "if not os.path.exists(model_name):\n",
    "    os.mkdir(model_name)\n",
    "        \n",
    "filepath = model_name + 'model-{epoch:05d}-{loss:.5f}-{categorical_accuracy:.5f}-{val_loss:.5f}-{val_categorical_accuracy:.5f}.h5'\n",
    "\n",
    "checkpoint = ModelCheckpoint(filepath, monitor='val_loss', verbose=1, save_best_only=False, save_weights_only=False, mode='auto', period=1)\n",
    "\n",
    "LR = ReduceLROnPlateau(monitor='val_loss', factor=0.2, verbose=1, patience=4)\n",
    "callbacks_list = [checkpoint, LR]\n",
    "\n",
    "\n",
    "# steps per epoch and validation steps\n",
    "if (num_train_sequences%batch_size) == 0:\n",
    "    steps_per_epoch = int(num_train_sequences/batch_size)\n",
    "else:\n",
    "    steps_per_epoch = (num_train_sequences//batch_size) + 1\n",
    "\n",
    "if (num_val_sequences%batch_size) == 0:\n",
    "    validation_steps = int(num_val_sequences/batch_size)\n",
    "else:\n",
    "    validation_steps = (num_val_sequences//batch_size) + 1"
   ]
  },
  {
   "cell_type": "code",
   "execution_count": 53,
   "metadata": {},
   "outputs": [
    {
     "name": "stdout",
     "output_type": "stream",
     "text": [
      "Source path =  ./Project_data/val ; batch size = 32\n",
      "Source path =  ./Project_data/train ; batch size = 32\n",
      "Epoch 1/10\n",
      "21/21 [==============================] - 67s 3s/step - loss: 1.6357 - categorical_accuracy: 0.3036 - val_loss: 1.3476 - val_categorical_accuracy: 0.4900\n",
      "\n",
      "Epoch 00001: saving model to model_init_2021-02-0316_11_52.534585/model-00001-1.63612-0.30468-1.34756-0.49000.h5\n",
      "Epoch 2/10\n",
      "21/21 [==============================] - 54s 3s/step - loss: 1.2590 - categorical_accuracy: 0.4878 - val_loss: 1.0123 - val_categorical_accuracy: 0.6000\n",
      "\n",
      "Epoch 00002: saving model to model_init_2021-02-0316_11_52.534585/model-00002-1.26277-0.48567-1.01231-0.60000.h5\n",
      "Epoch 3/10\n",
      "21/21 [==============================] - 58s 3s/step - loss: 0.9576 - categorical_accuracy: 0.6313 - val_loss: 0.8125 - val_categorical_accuracy: 0.6900\n",
      "\n",
      "Epoch 00003: saving model to model_init_2021-02-0316_11_52.534585/model-00003-0.95925-0.63047-0.81246-0.69000.h5\n",
      "Epoch 4/10\n",
      "21/21 [==============================] - 58s 3s/step - loss: 0.7852 - categorical_accuracy: 0.6998 - val_loss: 0.6580 - val_categorical_accuracy: 0.8000\n",
      "\n",
      "Epoch 00004: saving model to model_init_2021-02-0316_11_52.534585/model-00004-0.78708-0.69985-0.65796-0.80000.h5\n",
      "Epoch 5/10\n",
      "21/21 [==============================] - 57s 3s/step - loss: 0.5968 - categorical_accuracy: 0.7752 - val_loss: 0.5743 - val_categorical_accuracy: 0.7500\n",
      "\n",
      "Epoch 00005: saving model to model_init_2021-02-0316_11_52.534585/model-00005-0.59469-0.77677-0.57431-0.75000.h5\n",
      "Epoch 6/10\n",
      "21/21 [==============================] - 56s 3s/step - loss: 0.4638 - categorical_accuracy: 0.8435 - val_loss: 0.6101 - val_categorical_accuracy: 0.7400\n",
      "\n",
      "Epoch 00006: saving model to model_init_2021-02-0316_11_52.534585/model-00006-0.46540-0.84314-0.61007-0.74000.h5\n",
      "Epoch 7/10\n",
      "21/21 [==============================] - 57s 3s/step - loss: 0.4199 - categorical_accuracy: 0.8429 - val_loss: 0.5254 - val_categorical_accuracy: 0.7900\n",
      "\n",
      "Epoch 00007: saving model to model_init_2021-02-0316_11_52.534585/model-00007-0.41916-0.84314-0.52544-0.79000.h5\n",
      "Epoch 8/10\n",
      "21/21 [==============================] - 57s 3s/step - loss: 0.3423 - categorical_accuracy: 0.8867 - val_loss: 0.5275 - val_categorical_accuracy: 0.7800\n",
      "\n",
      "Epoch 00008: saving model to model_init_2021-02-0316_11_52.534585/model-00008-0.34034-0.88688-0.52747-0.78000.h5\n",
      "Epoch 9/10\n",
      "21/21 [==============================] - 56s 3s/step - loss: 0.3522 - categorical_accuracy: 0.8753 - val_loss: 0.6208 - val_categorical_accuracy: 0.7600\n",
      "\n",
      "Epoch 00009: saving model to model_init_2021-02-0316_11_52.534585/model-00009-0.35333-0.87481-0.62081-0.76000.h5\n",
      "Epoch 10/10\n",
      "21/21 [==============================] - 57s 3s/step - loss: 0.2833 - categorical_accuracy: 0.9030 - val_loss: 0.5699 - val_categorical_accuracy: 0.8300\n",
      "\n",
      "Epoch 00010: saving model to model_init_2021-02-0316_11_52.534585/model-00010-0.28370-0.90347-0.56995-0.83000.h5\n"
     ]
    }
   ],
   "source": [
    "# run the model\n",
    "history_cnn_rnn_2 = cnn_rnn_2.fit_generator(rnn_train_generator, steps_per_epoch=steps_per_epoch, epochs=num_epochs, verbose=1, \n",
    "                    callbacks=callbacks_list, validation_data=rnn_val_generator, \n",
    "                    validation_steps=validation_steps, class_weight=None, workers=1, initial_epoch=0)"
   ]
  },
  {
   "cell_type": "code",
   "execution_count": 54,
   "metadata": {
    "scrolled": true
   },
   "outputs": [
    {
     "data": {
      "image/png": "[encoded data removed]",
      "text/plain": [
       "<Figure size 1080x288 with 2 Axes>"
      ]
     },
     "metadata": {},
     "output_type": "display_data"
    }
   ],
   "source": [
    "plot(history_cnn_rnn_2)"
   ]
  },
  {
   "cell_type": "markdown",
   "metadata": {},
   "source": [
    "### We have got the best accuracy of ~83% on validation data.\n",
    "\n",
    "### Let us augment the data and re run the models"
   ]
  },
  {
   "cell_type": "code",
   "execution_count": 55,
   "metadata": {},
   "outputs": [],
   "source": [
    "import cv2\n",
    "\n",
    "def rnn_augmented_generator(source_path, folder_list, batch_size, augment=False):\n",
    "    print( 'Source path = ', source_path, '; batch size =', batch_size)\n",
    "    img_idx = frames\n",
    "    while True:\n",
    "        t = np.random.permutation(folder_list)\n",
    "        num_batches = int(np.floor(len(folder_list)/batch_size))\n",
    "        for batch in range(num_batches): # we iterate over the number of batches\n",
    "            x = len(img_idx)\n",
    "            y = img_height\n",
    "            z = img_width\n",
    "            batch_data = np.zeros((batch_size,x,y,z,3)) # x is the number of images you use for each video, (y,z) is the final size of the input images and 3 is the number of channels RGB\n",
    "            if augment:\n",
    "                batch_data_aug = np.zeros((batch_size,x,y,z,3))\n",
    "            batch_labels = np.zeros((batch_size,5)) # batch_labels is the one hot representation of the output\n",
    "            for folder in range(batch_size): # iterate over the batch_size\n",
    "                imgs = os.listdir(source_path+'/'+ t[folder + (batch*batch_size)].split(';')[0]) # read all the images in the folder\n",
    "                for idx,item in enumerate(img_idx): #  Iterate iver the frames/images of a folder to read them in\n",
    "                    image = imread(source_path+'/'+ t[folder + (batch*batch_size)].strip().split(';')[0]+'/'+imgs[item]).astype(np.float32)\n",
    "                    \n",
    "                    #crop the images and resize them. Note that the images are of 2 different shape \n",
    "                    #and the conv3D will throw error if the inputs in a batch have different shapes\n",
    "                    \n",
    "                    image = imresize(image,(y,z,3))\n",
    "                    \n",
    "                    norm_image = (image - np.mean(image))/(np.max(image) - np.min(image))\n",
    "                    \n",
    "                    batch_data[folder,idx,:,:,0] = norm_image[:,:,0]\n",
    "                    batch_data[folder,idx,:,:,1] = norm_image[:,:,1]\n",
    "                    batch_data[folder,idx,:,:,2] = norm_image[:,:,2]\n",
    "                    \n",
    "                    if augment:\n",
    "                        M = np.float32([[1,0,np.random.randint(-20,20)],[0,1,np.random.randint(-20,20)]])\n",
    "                        rows,cols = image.shape[0],image.shape[1]\n",
    "                        \n",
    "                        shifted_image = cv2.warpAffine(image, M, (cols,rows))\n",
    "                        \n",
    "                        rot_matrix = cv2.getRotationMatrix2D(((cols-1)/2.0,(rows-1)/2.0),5,1)\n",
    "                        rotated_image = cv2.warpAffine(image, rot_matrix, (cols,rows))\n",
    "                        \n",
    "                        rot_norm_image = (rotated_image - np.mean(rotated_image))/(np.max(rotated_image) - np.min(rotated_image))\n",
    "                        \n",
    "                        batch_data_aug[folder,idx,:,:,0] = rot_norm_image[:,:,0]\n",
    "                        batch_data_aug[folder,idx,:,:,1] = rot_norm_image[:,:,1]\n",
    "                        batch_data_aug[folder,idx,:,:,2] = rot_norm_image[:,:,2]\n",
    "                        \n",
    "                        \n",
    "                    \n",
    "                batch_labels[folder, int(t[folder + (batch*batch_size)].strip().split(';')[2])] = 1\n",
    "                \n",
    "            if augment:\n",
    "                batch_data=np.concatenate([batch_data,batch_data_aug])\n",
    "                batch_labels=np.concatenate([batch_labels,batch_labels])\n",
    "                \n",
    "            yield batch_data, batch_labels #you yield the batch_data and the batch_labels, remember what does yield do\n",
    "\n",
    "        \n",
    "        # write the code for the remaining data points which are left after full batches\n",
    "        num_rem_seqs = len(folder_list) - (num_batches*batch_size)\n",
    "        if num_rem_seqs > 0:\n",
    "            x = len(img_idx)\n",
    "            y = img_height\n",
    "            z = img_width\n",
    "            batch_data = np.zeros((num_rem_seqs,x,y,z,3)) # x is the number of images you use for each video, (y,z) is the final size of the input images and 3 is the number of channels RGB\n",
    "            batch_labels = np.zeros((num_rem_seqs,5)) # batch_labels is the one hot representation of the output\n",
    "            if augment:\n",
    "                batch_data_aug = np.zeros((num_rem_seqs,x,y,z,3))\n",
    "            rem_seqs = t[len(t)-num_rem_seqs:]\n",
    "            for folder in range(num_rem_seqs): # iterate over the remaining sequences\n",
    "                imgs = os.listdir(source_path+'/'+ rem_seqs[folder].split(';')[0]) # read all the images in the folder\n",
    "                for idx,item in enumerate(img_idx): #  Iterate iver the frames/images of a folder to read them in\n",
    "                    image = imread(source_path+'/'+ rem_seqs[folder].strip().split(';')[0]+'/'+imgs[item]).astype(np.float32)\n",
    "                    \n",
    "                    #crop the images and resize them. Note that the images are of 2 different shape \n",
    "                    #and the conv3D will throw error if the inputs in a batch have different shapes\n",
    "                    \n",
    "                    image = imresize(image,(y,z,3))\n",
    "                    \n",
    "                    norm_image = (image - np.mean(image))/(np.max(image) - np.min(image))\n",
    "                    \n",
    "                    batch_data[folder,idx,:,:,0] = norm_image[:,:,0]\n",
    "                    batch_data[folder,idx,:,:,1] = norm_image[:,:,1]\n",
    "                    batch_data[folder,idx,:,:,2] = norm_image[:,:,2]\n",
    "                    \n",
    "                    if augment:\n",
    "                        M = np.float32([[1,0,np.random.randint(-20,20)],[0,1,np.random.randint(-20,20)]])\n",
    "                        rows,cols = image.shape[0],image.shape[1]\n",
    "                        \n",
    "                        shifted_image = cv2.warpAffine(image, M, (cols,rows))\n",
    "                        \n",
    "                        rot_matrix = cv2.getRotationMatrix2D(((cols-1)/2.0,(rows-1)/2.0),5,1)\n",
    "                        rotated_image = cv2.warpAffine(image, rot_matrix, (cols,rows))\n",
    "                        \n",
    "                        rot_norm_image = (rotated_image - np.mean(rotated_image))/(np.max(rotated_image) - np.min(rotated_image))\n",
    "                        \n",
    "                        batch_data_aug[folder,idx,:,:,0] = rot_norm_image[:,:,0]\n",
    "                        batch_data_aug[folder,idx,:,:,1] = rot_norm_image[:,:,1]\n",
    "                        batch_data_aug[folder,idx,:,:,2] = rot_norm_image[:,:,2]\n",
    "                    \n",
    "                batch_labels[folder, int(rem_seqs[folder].strip().split(';')[2])] = 1\n",
    "            \n",
    "            if augment:\n",
    "                batch_data=np.concatenate([batch_data,batch_data_aug])\n",
    "                batch_labels=np.concatenate([batch_labels,batch_labels])\n",
    "            yield batch_data, batch_labels #you yield the batch_data and the batch_labels, remember what does yield do"
   ]
  },
  {
   "cell_type": "code",
   "execution_count": 56,
   "metadata": {},
   "outputs": [],
   "source": [
    "def cnn_rnn_model_3(gru_cells=64, dense_neurons=64, dropout=0.25):\n",
    "    \n",
    "    vgg_model = vgg16.VGG16(weights='imagenet', include_top=False, input_shape=(img_height, img_width,3))\n",
    "    \n",
    "    model = Sequential()\n",
    "    \n",
    "    model.add(TimeDistributed(vgg_model, input_shape=(frames_to_sample, img_height, img_width, 3)))\n",
    "    model.add(TimeDistributed(MaxPooling2D((2, 2))))\n",
    "    model.add(TimeDistributed(Flatten()))\n",
    "    model.add(Dropout(dropout))\n",
    "    \n",
    "    for layer in vgg_model.layers:\n",
    "        layer.trainable=False\n",
    "    \n",
    "    model.add(GRU(gru_cells, use_bias=False))\n",
    "    model.add(Dropout(dropout))\n",
    "    \n",
    "    \n",
    "    model.add(Dense(dense_neurons, activation='relu'))\n",
    "    model.add(Dropout(dropout))\n",
    "    \n",
    "    model.add(Dense(nb_classes, activation='softmax'))\n",
    "    \n",
    "    return model"
   ]
  },
  {
   "cell_type": "code",
   "execution_count": 57,
   "metadata": {},
   "outputs": [
    {
     "name": "stdout",
     "output_type": "stream",
     "text": [
      "_________________________________________________________________\n",
      "Layer (type)                 Output Shape              Param #   \n",
      "=================================================================\n",
      "time_distributed_7 (TimeDist (None, 20, 3, 3, 512)     14714688  \n",
      "_________________________________________________________________\n",
      "time_distributed_8 (TimeDist (None, 20, 1, 1, 512)     0         \n",
      "_________________________________________________________________\n",
      "time_distributed_9 (TimeDist (None, 20, 512)           0         \n",
      "_________________________________________________________________\n",
      "dropout_12 (Dropout)         (None, 20, 512)           0         \n",
      "_________________________________________________________________\n",
      "gru_3 (GRU)                  (None, 128)               245760    \n",
      "_________________________________________________________________\n",
      "dropout_13 (Dropout)         (None, 128)               0         \n",
      "_________________________________________________________________\n",
      "dense_16 (Dense)             (None, 128)               16512     \n",
      "_________________________________________________________________\n",
      "dropout_14 (Dropout)         (None, 128)               0         \n",
      "_________________________________________________________________\n",
      "dense_17 (Dense)             (None, 5)                 645       \n",
      "=================================================================\n",
      "Total params: 14,977,605\n",
      "Trainable params: 262,917\n",
      "Non-trainable params: 14,714,688\n",
      "_________________________________________________________________\n",
      "None\n"
     ]
    }
   ],
   "source": [
    "frames = range(5,25)\n",
    "frames_to_sample = len(frames)\n",
    "img_height = 100\n",
    "img_width = 100\n",
    "nb_classes=5\n",
    "\n",
    "cnn_rnn_3 = cnn_rnn_model_3(dense_neurons=128, gru_cells=128)\n",
    "optimiser = optimizers.Adam()\n",
    "cnn_rnn_3.compile(optimizer=optimiser, loss='categorical_crossentropy', metrics=['categorical_accuracy'])\n",
    "print(cnn_rnn_3.summary())"
   ]
  },
  {
   "cell_type": "code",
   "execution_count": 58,
   "metadata": {},
   "outputs": [
    {
     "name": "stdout",
     "output_type": "stream",
     "text": [
      "# training sequences = 663\n",
      "# validation sequences = 100\n",
      "# epochs = 15\n"
     ]
    }
   ],
   "source": [
    "curr_dt_time = datetime.datetime.now()\n",
    "train_path = './Project_data/train'\n",
    "val_path = './Project_data/val'\n",
    "num_train_sequences = len(train_doc)\n",
    "print('# training sequences =', num_train_sequences)\n",
    "num_val_sequences = len(val_doc)\n",
    "print('# validation sequences =', num_val_sequences)\n",
    "num_epochs = 15\n",
    "print ('# epochs =', num_epochs)"
   ]
  },
  {
   "cell_type": "code",
   "execution_count": 59,
   "metadata": {},
   "outputs": [],
   "source": [
    "# generators\n",
    "rnn_train_generator = rnn_augmented_generator(train_path, train_doc, batch_size)\n",
    "rnn_val_generator = rnn_augmented_generator(val_path, val_doc, batch_size)\n",
    "\n",
    "\n",
    "# Model checkpoints and saving\n",
    "model_name = 'model_init' + '_' + str(curr_dt_time).replace(' ','').replace(':','_') + '/'\n",
    "    \n",
    "if not os.path.exists(model_name):\n",
    "    os.mkdir(model_name)\n",
    "        \n",
    "filepath = model_name + 'model-{epoch:05d}-{loss:.5f}-{categorical_accuracy:.5f}-{val_loss:.5f}-{val_categorical_accuracy:.5f}.h5'\n",
    "\n",
    "checkpoint = ModelCheckpoint(filepath, monitor='val_loss', verbose=1, save_best_only=False, save_weights_only=False, mode='auto', period=1)\n",
    "\n",
    "LR = ReduceLROnPlateau(monitor='val_loss', factor=0.2, verbose=1, patience=4)\n",
    "callbacks_list = [checkpoint, LR]\n",
    "\n",
    "\n",
    "# steps per epoch and validation steps\n",
    "if (num_train_sequences%batch_size) == 0:\n",
    "    steps_per_epoch = int(num_train_sequences/batch_size)\n",
    "else:\n",
    "    steps_per_epoch = (num_train_sequences//batch_size) + 1\n",
    "\n",
    "if (num_val_sequences%batch_size) == 0:\n",
    "    validation_steps = int(num_val_sequences/batch_size)\n",
    "else:\n",
    "    validation_steps = (num_val_sequences//batch_size) + 1"
   ]
  },
  {
   "cell_type": "code",
   "execution_count": 60,
   "metadata": {
    "scrolled": false
   },
   "outputs": [
    {
     "name": "stdout",
     "output_type": "stream",
     "text": [
      "Source path =  ./Project_data/val ; batch size = 32\n",
      "Source path =  ./Project_data/train ; batch size = 32\n",
      "Epoch 1/15\n",
      "21/21 [==============================] - 64s 3s/step - loss: 1.6353 - categorical_accuracy: 0.2509 - val_loss: 1.5226 - val_categorical_accuracy: 0.2500\n",
      "\n",
      "Epoch 00001: saving model to model_init_2021-02-0316_21_39.927253/model-00001-1.63509-0.25189-1.52264-0.25000.h5\n",
      "Epoch 2/15\n",
      "21/21 [==============================] - 51s 2s/step - loss: 1.4456 - categorical_accuracy: 0.3644 - val_loss: 1.3491 - val_categorical_accuracy: 0.4600\n",
      "\n",
      "Epoch 00002: saving model to model_init_2021-02-0316_21_39.927253/model-00002-1.44781-0.36350-1.34909-0.46000.h5\n",
      "Epoch 3/15\n",
      "21/21 [==============================] - 54s 3s/step - loss: 1.2494 - categorical_accuracy: 0.4746 - val_loss: 1.2149 - val_categorical_accuracy: 0.5200\n",
      "\n",
      "Epoch 00003: saving model to model_init_2021-02-0316_21_39.927253/model-00003-1.24650-0.47511-1.21487-0.52000.h5\n",
      "Epoch 4/15\n",
      "21/21 [==============================] - 53s 3s/step - loss: 1.0822 - categorical_accuracy: 0.5714 - val_loss: 1.1675 - val_categorical_accuracy: 0.5300\n",
      "\n",
      "Epoch 00004: saving model to model_init_2021-02-0316_21_39.927253/model-00004-1.08434-0.56863-1.16747-0.53000.h5\n",
      "Epoch 5/15\n",
      "21/21 [==============================] - 53s 3s/step - loss: 0.9133 - categorical_accuracy: 0.6462 - val_loss: 1.0755 - val_categorical_accuracy: 0.5800\n",
      "\n",
      "Epoch 00005: saving model to model_init_2021-02-0316_21_39.927253/model-00005-0.91406-0.64555-1.07554-0.58000.h5\n",
      "Epoch 6/15\n",
      "21/21 [==============================] - 55s 3s/step - loss: 0.7457 - categorical_accuracy: 0.6950 - val_loss: 1.1680 - val_categorical_accuracy: 0.5800\n",
      "\n",
      "Epoch 00006: saving model to model_init_2021-02-0316_21_39.927253/model-00006-0.74584-0.69382-1.16795-0.58000.h5\n",
      "Epoch 7/15\n",
      "21/21 [==============================] - 54s 3s/step - loss: 0.7645 - categorical_accuracy: 0.6996 - val_loss: 0.8842 - val_categorical_accuracy: 0.6700\n",
      "\n",
      "Epoch 00007: saving model to model_init_2021-02-0316_21_39.927253/model-00007-0.77030-0.69683-0.88423-0.67000.h5\n",
      "Epoch 8/15\n",
      "21/21 [==============================] - 54s 3s/step - loss: 0.5426 - categorical_accuracy: 0.7893 - val_loss: 1.0450 - val_categorical_accuracy: 0.6100\n",
      "\n",
      "Epoch 00008: saving model to model_init_2021-02-0316_21_39.927253/model-00008-0.54263-0.78884-1.04500-0.61000.h5\n",
      "Epoch 9/15\n",
      "21/21 [==============================] - 55s 3s/step - loss: 0.4547 - categorical_accuracy: 0.8277 - val_loss: 0.9482 - val_categorical_accuracy: 0.6700\n",
      "\n",
      "Epoch 00009: saving model to model_init_2021-02-0316_21_39.927253/model-00009-0.45652-0.82655-0.94815-0.67000.h5\n",
      "Epoch 10/15\n",
      "21/21 [==============================] - 54s 3s/step - loss: 0.3613 - categorical_accuracy: 0.8684 - val_loss: 0.9801 - val_categorical_accuracy: 0.7300\n",
      "\n",
      "Epoch 00010: saving model to model_init_2021-02-0316_21_39.927253/model-00010-0.36332-0.86727-0.98012-0.73000.h5\n",
      "Epoch 11/15\n",
      "21/21 [==============================] - 53s 3s/step - loss: 0.3231 - categorical_accuracy: 0.8742 - val_loss: 1.0492 - val_categorical_accuracy: 0.6800\n",
      "\n",
      "Epoch 00011: saving model to model_init_2021-02-0316_21_39.927253/model-00011-0.32029-0.87481-1.04922-0.68000.h5\n",
      "\n",
      "Epoch 00011: ReduceLROnPlateau reducing learning rate to 0.00020000000949949026.\n",
      "Epoch 12/15\n",
      "21/21 [==============================] - 53s 3s/step - loss: 0.2089 - categorical_accuracy: 0.9190 - val_loss: 1.0110 - val_categorical_accuracy: 0.7000\n",
      "\n",
      "Epoch 00012: saving model to model_init_2021-02-0316_21_39.927253/model-00012-0.20943-0.91855-1.01101-0.70000.h5\n",
      "Epoch 13/15\n",
      "21/21 [==============================] - 54s 3s/step - loss: 0.1906 - categorical_accuracy: 0.9345 - val_loss: 1.0521 - val_categorical_accuracy: 0.7100\n",
      "\n",
      "Epoch 00013: saving model to model_init_2021-02-0316_21_39.927253/model-00013-0.19223-0.93363-1.05213-0.71000.h5\n",
      "Epoch 14/15\n",
      "21/21 [==============================] - 54s 3s/step - loss: 0.1789 - categorical_accuracy: 0.9378 - val_loss: 1.1373 - val_categorical_accuracy: 0.7000\n",
      "\n",
      "Epoch 00014: saving model to model_init_2021-02-0316_21_39.927253/model-00014-0.17718-0.93816-1.13728-0.70000.h5\n",
      "Epoch 15/15\n",
      "21/21 [==============================] - 55s 3s/step - loss: 0.1637 - categorical_accuracy: 0.9548 - val_loss: 1.1668 - val_categorical_accuracy: 0.7000\n",
      "\n",
      "Epoch 00015: saving model to model_init_2021-02-0316_21_39.927253/model-00015-0.16412-0.95475-1.16683-0.70000.h5\n",
      "\n",
      "Epoch 00015: ReduceLROnPlateau reducing learning rate to 4.0000001899898055e-05.\n"
     ]
    }
   ],
   "source": [
    "# run the model\n",
    "history_cnn_rnn_3 = cnn_rnn_3.fit_generator(rnn_train_generator, steps_per_epoch=steps_per_epoch, epochs=num_epochs, verbose=1, \n",
    "                    callbacks=callbacks_list, validation_data=rnn_val_generator, \n",
    "                    validation_steps=validation_steps, class_weight=None, workers=1, initial_epoch=0)"
   ]
  },
  {
   "cell_type": "code",
   "execution_count": 61,
   "metadata": {},
   "outputs": [
    {
     "data": {
      "image/png": "[encoded data removed]",
      "text/plain": [
       "<Figure size 1080x288 with 2 Axes>"
      ]
     },
     "metadata": {},
     "output_type": "display_data"
    }
   ],
   "source": [
    "plot(history_cnn_rnn_3)"
   ]
  },
  {
   "cell_type": "markdown",
   "metadata": {},
   "source": [
    "### We got the best model with 70% validation accuracy. Here we can see that the model is not overfitting on the training data. \n",
    "\n",
    "\n",
    "### Let us run mobile net model on the augmented data set"
   ]
  },
  {
   "cell_type": "code",
   "execution_count": 62,
   "metadata": {},
   "outputs": [],
   "source": [
    "def cnn_rnn_model_4(gru_cells=64, dense_neurons=64, dropout=0.25):\n",
    "    \n",
    "    mobilenet_model = mobilenet.MobileNet(weights='imagenet', include_top=False, input_shape=(img_height, img_width,3))\n",
    "    \n",
    "    model = Sequential()\n",
    "    \n",
    "    model.add(TimeDistributed(mobilenet_model, input_shape=(frames_to_sample, img_height, img_width, 3)))\n",
    "    model.add(TimeDistributed(MaxPooling2D((2, 2))))\n",
    "    model.add(TimeDistributed(Flatten()))\n",
    "    \n",
    "    for layer in mobilenet_model.layers:\n",
    "        layer.trainable=False\n",
    "    \n",
    "    model.add(GRU(gru_cells, use_bias=False))\n",
    "    model.add(Dropout(dropout))\n",
    "    \n",
    "    \n",
    "    model.add(Dense(dense_neurons, activation='relu'))\n",
    "    model.add(Dropout(dropout))\n",
    "    \n",
    "    model.add(Dense(nb_classes, activation='softmax'))\n",
    "    \n",
    "    return model"
   ]
  },
  {
   "cell_type": "code",
   "execution_count": 63,
   "metadata": {},
   "outputs": [
    {
     "name": "stdout",
     "output_type": "stream",
     "text": [
      "_________________________________________________________________\n",
      "Layer (type)                 Output Shape              Param #   \n",
      "=================================================================\n",
      "time_distributed_10 (TimeDis (None, 20, 4, 4, 1024)    3228864   \n",
      "_________________________________________________________________\n",
      "time_distributed_11 (TimeDis (None, 20, 2, 2, 1024)    0         \n",
      "_________________________________________________________________\n",
      "time_distributed_12 (TimeDis (None, 20, 4096)          0         \n",
      "_________________________________________________________________\n",
      "gru_4 (GRU)                  (None, 128)               1622016   \n",
      "_________________________________________________________________\n",
      "dropout_15 (Dropout)         (None, 128)               0         \n",
      "_________________________________________________________________\n",
      "dense_18 (Dense)             (None, 128)               16512     \n",
      "_________________________________________________________________\n",
      "dropout_16 (Dropout)         (None, 128)               0         \n",
      "_________________________________________________________________\n",
      "dense_19 (Dense)             (None, 5)                 645       \n",
      "=================================================================\n",
      "Total params: 4,868,037\n",
      "Trainable params: 1,639,173\n",
      "Non-trainable params: 3,228,864\n",
      "_________________________________________________________________\n",
      "None\n"
     ]
    }
   ],
   "source": [
    "frames = range(5,25)\n",
    "frames_to_sample = len(frames)\n",
    "img_height = 128\n",
    "img_width = 128\n",
    "nb_classes=5\n",
    "\n",
    "cnn_rnn_4 = cnn_rnn_model_4(dense_neurons=128, gru_cells=128)\n",
    "optimiser = optimizers.Adam()\n",
    "cnn_rnn_4.compile(optimizer=optimiser, loss='categorical_crossentropy', metrics=['categorical_accuracy'])\n",
    "print(cnn_rnn_4.summary())"
   ]
  },
  {
   "cell_type": "code",
   "execution_count": 64,
   "metadata": {},
   "outputs": [
    {
     "name": "stdout",
     "output_type": "stream",
     "text": [
      "# training sequences = 663\n",
      "# validation sequences = 100\n",
      "# epochs = 15\n"
     ]
    }
   ],
   "source": [
    "curr_dt_time = datetime.datetime.now()\n",
    "train_path = './Project_data/train'\n",
    "val_path = './Project_data/val'\n",
    "num_train_sequences = len(train_doc)\n",
    "print('# training sequences =', num_train_sequences)\n",
    "num_val_sequences = len(val_doc)\n",
    "print('# validation sequences =', num_val_sequences)\n",
    "num_epochs = 15\n",
    "print ('# epochs =', num_epochs)"
   ]
  },
  {
   "cell_type": "code",
   "execution_count": 65,
   "metadata": {},
   "outputs": [],
   "source": [
    "# generators\n",
    "rnn_train_generator = rnn_augmented_generator(train_path, train_doc, batch_size)\n",
    "rnn_val_generator = rnn_augmented_generator(val_path, val_doc, batch_size)\n",
    "\n",
    "\n",
    "# Model checkpoints and saving\n",
    "model_name = 'model_init' + '_' + str(curr_dt_time).replace(' ','').replace(':','_') + '/'\n",
    "    \n",
    "if not os.path.exists(model_name):\n",
    "    os.mkdir(model_name)\n",
    "        \n",
    "filepath = model_name + 'model-{epoch:05d}-{loss:.5f}-{categorical_accuracy:.5f}-{val_loss:.5f}-{val_categorical_accuracy:.5f}.h5'\n",
    "\n",
    "checkpoint = ModelCheckpoint(filepath, monitor='val_loss', verbose=1, save_best_only=False, save_weights_only=False, mode='auto', period=1)\n",
    "\n",
    "LR = ReduceLROnPlateau(monitor='val_loss', factor=0.2, verbose=1, patience=4)\n",
    "callbacks_list = [checkpoint, LR]\n",
    "\n",
    "\n",
    "# steps per epoch and validation steps\n",
    "if (num_train_sequences%batch_size) == 0:\n",
    "    steps_per_epoch = int(num_train_sequences/batch_size)\n",
    "else:\n",
    "    steps_per_epoch = (num_train_sequences//batch_size) + 1\n",
    "\n",
    "if (num_val_sequences%batch_size) == 0:\n",
    "    validation_steps = int(num_val_sequences/batch_size)\n",
    "else:\n",
    "    validation_steps = (num_val_sequences//batch_size) + 1"
   ]
  },
  {
   "cell_type": "code",
   "execution_count": 66,
   "metadata": {},
   "outputs": [
    {
     "name": "stdout",
     "output_type": "stream",
     "text": [
      "Source path = Source path =  ./Project_data/train ; batch size = Epoch 1/1532\n",
      "\n",
      " ./Project_data/val ; batch size = 32\n",
      "21/21 [==============================] - 65s 3s/step - loss: 1.6619 - categorical_accuracy: 0.2656 - val_loss: 1.3320 - val_categorical_accuracy: 0.5000\n",
      "\n",
      "Epoch 00001: saving model to model_init_2021-02-0316_35_38.209168/model-00001-1.66445-0.26395-1.33203-0.50000.h5\n",
      "Epoch 2/15\n",
      "21/21 [==============================] - 54s 3s/step - loss: 1.4175 - categorical_accuracy: 0.3953 - val_loss: 1.1253 - val_categorical_accuracy: 0.6100\n",
      "\n",
      "Epoch 00002: saving model to model_init_2021-02-0316_35_38.209168/model-00002-1.41907-0.39367-1.12526-0.61000.h5\n",
      "Epoch 3/15\n",
      "21/21 [==============================] - 58s 3s/step - loss: 1.1359 - categorical_accuracy: 0.5373 - val_loss: 1.0092 - val_categorical_accuracy: 0.6000\n",
      "\n",
      "Epoch 00003: saving model to model_init_2021-02-0316_35_38.209168/model-00003-1.13752-0.53695-1.00919-0.60000.h5\n",
      "Epoch 4/15\n",
      "21/21 [==============================] - 58s 3s/step - loss: 0.9119 - categorical_accuracy: 0.6466 - val_loss: 0.7851 - val_categorical_accuracy: 0.6700\n",
      "\n",
      "Epoch 00004: saving model to model_init_2021-02-0316_35_38.209168/model-00004-0.91233-0.64706-0.78514-0.67000.h5\n",
      "Epoch 5/15\n",
      "21/21 [==============================] - 58s 3s/step - loss: 0.7220 - categorical_accuracy: 0.7124 - val_loss: 0.6119 - val_categorical_accuracy: 0.8000\n",
      "\n",
      "Epoch 00005: saving model to model_init_2021-02-0316_35_38.209168/model-00005-0.72415-0.71041-0.61193-0.80000.h5\n",
      "Epoch 6/15\n",
      "21/21 [==============================] - 58s 3s/step - loss: 0.6035 - categorical_accuracy: 0.7763 - val_loss: 0.5639 - val_categorical_accuracy: 0.7900\n",
      "\n",
      "Epoch 00006: saving model to model_init_2021-02-0316_35_38.209168/model-00006-0.60341-0.77677-0.56387-0.79000.h5\n",
      "Epoch 7/15\n",
      "21/21 [==============================] - 59s 3s/step - loss: 0.5214 - categorical_accuracy: 0.7921 - val_loss: 0.6127 - val_categorical_accuracy: 0.7000\n",
      "\n",
      "Epoch 00007: saving model to model_init_2021-02-0316_35_38.209168/model-00007-0.52065-0.79336-0.61268-0.70000.h5\n",
      "Epoch 8/15\n",
      "21/21 [==============================] - 59s 3s/step - loss: 0.4912 - categorical_accuracy: 0.8048 - val_loss: 0.5835 - val_categorical_accuracy: 0.7500\n",
      "\n",
      "Epoch 00008: saving model to model_init_2021-02-0316_35_38.209168/model-00008-0.49346-0.80392-0.58349-0.75000.h5\n",
      "Epoch 9/15\n",
      "21/21 [==============================] - 58s 3s/step - loss: 0.5028 - categorical_accuracy: 0.7988 - val_loss: 0.5211 - val_categorical_accuracy: 0.8000\n",
      "\n",
      "Epoch 00009: saving model to model_init_2021-02-0316_35_38.209168/model-00009-0.50274-0.79789-0.52115-0.80000.h5\n",
      "Epoch 10/15\n",
      "21/21 [==============================] - 57s 3s/step - loss: 0.4199 - categorical_accuracy: 0.8370 - val_loss: 0.4459 - val_categorical_accuracy: 0.8000\n",
      "\n",
      "Epoch 00010: saving model to model_init_2021-02-0316_35_38.209168/model-00010-0.42061-0.83710-0.44587-0.80000.h5\n",
      "Epoch 11/15\n",
      "21/21 [==============================] - 58s 3s/step - loss: 0.3312 - categorical_accuracy: 0.8822 - val_loss: 0.5520 - val_categorical_accuracy: 0.7300\n",
      "\n",
      "Epoch 00011: saving model to model_init_2021-02-0316_35_38.209168/model-00011-0.33080-0.88235-0.55201-0.73000.h5\n",
      "Epoch 12/15\n",
      "21/21 [==============================] - 58s 3s/step - loss: 0.2504 - categorical_accuracy: 0.9135 - val_loss: 0.4503 - val_categorical_accuracy: 0.8200\n",
      "\n",
      "Epoch 00012: saving model to model_init_2021-02-0316_35_38.209168/model-00012-0.24985-0.91403-0.45032-0.82000.h5\n",
      "Epoch 13/15\n",
      "21/21 [==============================] - 59s 3s/step - loss: 0.2621 - categorical_accuracy: 0.9105 - val_loss: 0.4366 - val_categorical_accuracy: 0.8600\n",
      "\n",
      "Epoch 00013: saving model to model_init_2021-02-0316_35_38.209168/model-00013-0.26162-0.91101-0.43656-0.86000.h5\n",
      "Epoch 14/15\n",
      "21/21 [==============================] - 59s 3s/step - loss: 0.2350 - categorical_accuracy: 0.9185 - val_loss: 0.4860 - val_categorical_accuracy: 0.8200\n",
      "\n",
      "Epoch 00014: saving model to model_init_2021-02-0316_35_38.209168/model-00014-0.23301-0.91855-0.48601-0.82000.h5\n",
      "Epoch 15/15\n",
      "21/21 [==============================] - 59s 3s/step - loss: 0.2024 - categorical_accuracy: 0.9319 - val_loss: 0.4172 - val_categorical_accuracy: 0.7800\n",
      "\n",
      "Epoch 00015: saving model to model_init_2021-02-0316_35_38.209168/model-00015-0.20188-0.93213-0.41722-0.78000.h5\n"
     ]
    }
   ],
   "source": [
    "# run the model\n",
    "history_cnn_rnn_4 = cnn_rnn_4.fit_generator(rnn_train_generator, steps_per_epoch=steps_per_epoch, epochs=num_epochs, verbose=1, \n",
    "                    callbacks=callbacks_list, validation_data=rnn_val_generator, \n",
    "                    validation_steps=validation_steps, class_weight=None, workers=1, initial_epoch=0)"
   ]
  },
  {
   "cell_type": "code",
   "execution_count": 67,
   "metadata": {},
   "outputs": [
    {
     "data": {
      "image/png": "[encoded data removed]",
      "text/plain": [
       "<Figure size 1080x288 with 2 Axes>"
      ]
     },
     "metadata": {},
     "output_type": "display_data"
    }
   ],
   "source": [
    "plot(history_cnn_rnn_4)"
   ]
  },
  {
   "cell_type": "markdown",
   "metadata": {},
   "source": [
    "### We got the best model with:\n",
    "- ### Train Accuracy: ~91.10%.\n",
    "- ### Validation Accuracy: 86.00%.\n",
    "\n",
    "### Model: model-00013-0.26162-0.91101-0.43656-0.86000.h5"
   ]
  },
  {
   "cell_type": "code",
   "execution_count": null,
   "metadata": {},
   "outputs": [],
   "source": []
  }
 ],
 "metadata": {
  "kernelspec": {
   "display_name": "Python 3",
   "language": "python",
   "name": "python3"
  },
  "language_info": {
   "codemirror_mode": {
    "name": "ipython",
    "version": 3
   },
   "file_extension": ".py",
   "mimetype": "text/x-python",
   "name": "python",
   "nbconvert_exporter": "python",
   "pygments_lexer": "ipython3",
   "version": "3.7.4"
  }
 },
 "nbformat": 4,
 "nbformat_minor": 2
}
